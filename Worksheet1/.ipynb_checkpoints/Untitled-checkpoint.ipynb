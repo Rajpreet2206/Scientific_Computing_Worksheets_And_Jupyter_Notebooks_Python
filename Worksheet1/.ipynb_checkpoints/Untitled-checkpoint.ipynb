{
 "cells": [
  {
   "cell_type": "code",
   "execution_count": 1,
   "id": "bc4d6e31",
   "metadata": {},
   "outputs": [
    {
     "ename": "ModuleNotFoundError",
     "evalue": "No module named 'matplotlib'",
     "output_type": "error",
     "traceback": [
      "\u001b[1;31m---------------------------------------------------------------------------\u001b[0m",
      "\u001b[1;31mModuleNotFoundError\u001b[0m                       Traceback (most recent call last)",
      "Cell \u001b[1;32mIn[1], line 1\u001b[0m\n\u001b[1;32m----> 1\u001b[0m \u001b[43mget_ipython\u001b[49m\u001b[43m(\u001b[49m\u001b[43m)\u001b[49m\u001b[38;5;241;43m.\u001b[39;49m\u001b[43mrun_line_magic\u001b[49m\u001b[43m(\u001b[49m\u001b[38;5;124;43m'\u001b[39;49m\u001b[38;5;124;43mmatplotlib\u001b[39;49m\u001b[38;5;124;43m'\u001b[39;49m\u001b[43m,\u001b[49m\u001b[43m \u001b[49m\u001b[38;5;124;43m'\u001b[39;49m\u001b[38;5;124;43mqt\u001b[39;49m\u001b[38;5;124;43m'\u001b[39;49m\u001b[43m)\u001b[49m\n\u001b[0;32m      2\u001b[0m \u001b[38;5;28;01mfrom\u001b[39;00m \u001b[38;5;21;01msympy\u001b[39;00m \u001b[38;5;28;01mimport\u001b[39;00m \u001b[38;5;241m*\u001b[39m\n\u001b[0;32m      3\u001b[0m \u001b[38;5;28;01mimport\u001b[39;00m \u001b[38;5;21;01msympy\u001b[39;00m \u001b[38;5;28;01mas\u001b[39;00m \u001b[38;5;21;01msp\u001b[39;00m\n",
      "File \u001b[1;32m~\\AppData\\Local\\Programs\\Python\\Python311\\Lib\\site-packages\\IPython\\core\\interactiveshell.py:2369\u001b[0m, in \u001b[0;36mInteractiveShell.run_line_magic\u001b[1;34m(self, magic_name, line, _stack_depth)\u001b[0m\n\u001b[0;32m   2367\u001b[0m     kwargs[\u001b[38;5;124m'\u001b[39m\u001b[38;5;124mlocal_ns\u001b[39m\u001b[38;5;124m'\u001b[39m] \u001b[38;5;241m=\u001b[39m \u001b[38;5;28mself\u001b[39m\u001b[38;5;241m.\u001b[39mget_local_scope(stack_depth)\n\u001b[0;32m   2368\u001b[0m \u001b[38;5;28;01mwith\u001b[39;00m \u001b[38;5;28mself\u001b[39m\u001b[38;5;241m.\u001b[39mbuiltin_trap:\n\u001b[1;32m-> 2369\u001b[0m     result \u001b[38;5;241m=\u001b[39m \u001b[43mfn\u001b[49m\u001b[43m(\u001b[49m\u001b[38;5;241;43m*\u001b[39;49m\u001b[43margs\u001b[49m\u001b[43m,\u001b[49m\u001b[43m \u001b[49m\u001b[38;5;241;43m*\u001b[39;49m\u001b[38;5;241;43m*\u001b[39;49m\u001b[43mkwargs\u001b[49m\u001b[43m)\u001b[49m\n\u001b[0;32m   2370\u001b[0m \u001b[38;5;28;01mreturn\u001b[39;00m result\n",
      "File \u001b[1;32m~\\AppData\\Local\\Programs\\Python\\Python311\\Lib\\site-packages\\IPython\\core\\magics\\pylab.py:99\u001b[0m, in \u001b[0;36mPylabMagics.matplotlib\u001b[1;34m(self, line)\u001b[0m\n\u001b[0;32m     97\u001b[0m     \u001b[38;5;28mprint\u001b[39m(\u001b[38;5;124m\"\u001b[39m\u001b[38;5;124mAvailable matplotlib backends: \u001b[39m\u001b[38;5;132;01m%s\u001b[39;00m\u001b[38;5;124m\"\u001b[39m \u001b[38;5;241m%\u001b[39m backends_list)\n\u001b[0;32m     98\u001b[0m \u001b[38;5;28;01melse\u001b[39;00m:\n\u001b[1;32m---> 99\u001b[0m     gui, backend \u001b[38;5;241m=\u001b[39m \u001b[38;5;28;43mself\u001b[39;49m\u001b[38;5;241;43m.\u001b[39;49m\u001b[43mshell\u001b[49m\u001b[38;5;241;43m.\u001b[39;49m\u001b[43menable_matplotlib\u001b[49m\u001b[43m(\u001b[49m\u001b[43margs\u001b[49m\u001b[38;5;241;43m.\u001b[39;49m\u001b[43mgui\u001b[49m\u001b[38;5;241;43m.\u001b[39;49m\u001b[43mlower\u001b[49m\u001b[43m(\u001b[49m\u001b[43m)\u001b[49m\u001b[43m \u001b[49m\u001b[38;5;28;43;01mif\u001b[39;49;00m\u001b[43m \u001b[49m\u001b[38;5;28;43misinstance\u001b[39;49m\u001b[43m(\u001b[49m\u001b[43margs\u001b[49m\u001b[38;5;241;43m.\u001b[39;49m\u001b[43mgui\u001b[49m\u001b[43m,\u001b[49m\u001b[43m \u001b[49m\u001b[38;5;28;43mstr\u001b[39;49m\u001b[43m)\u001b[49m\u001b[43m \u001b[49m\u001b[38;5;28;43;01melse\u001b[39;49;00m\u001b[43m \u001b[49m\u001b[43margs\u001b[49m\u001b[38;5;241;43m.\u001b[39;49m\u001b[43mgui\u001b[49m\u001b[43m)\u001b[49m\n\u001b[0;32m    100\u001b[0m     \u001b[38;5;28mself\u001b[39m\u001b[38;5;241m.\u001b[39m_show_matplotlib_backend(args\u001b[38;5;241m.\u001b[39mgui, backend)\n",
      "File \u001b[1;32m~\\AppData\\Local\\Programs\\Python\\Python311\\Lib\\site-packages\\IPython\\core\\interactiveshell.py:3522\u001b[0m, in \u001b[0;36mInteractiveShell.enable_matplotlib\u001b[1;34m(self, gui)\u001b[0m\n\u001b[0;32m   3501\u001b[0m \u001b[38;5;28;01mdef\u001b[39;00m \u001b[38;5;21menable_matplotlib\u001b[39m(\u001b[38;5;28mself\u001b[39m, gui\u001b[38;5;241m=\u001b[39m\u001b[38;5;28;01mNone\u001b[39;00m):\n\u001b[0;32m   3502\u001b[0m \u001b[38;5;250m    \u001b[39m\u001b[38;5;124;03m\"\"\"Enable interactive matplotlib and inline figure support.\u001b[39;00m\n\u001b[0;32m   3503\u001b[0m \n\u001b[0;32m   3504\u001b[0m \u001b[38;5;124;03m    This takes the following steps:\u001b[39;00m\n\u001b[1;32m   (...)\u001b[0m\n\u001b[0;32m   3520\u001b[0m \u001b[38;5;124;03m        display figures inline.\u001b[39;00m\n\u001b[0;32m   3521\u001b[0m \u001b[38;5;124;03m    \"\"\"\u001b[39;00m\n\u001b[1;32m-> 3522\u001b[0m     \u001b[38;5;28;01mfrom\u001b[39;00m \u001b[38;5;21;01mmatplotlib_inline\u001b[39;00m\u001b[38;5;21;01m.\u001b[39;00m\u001b[38;5;21;01mbackend_inline\u001b[39;00m \u001b[38;5;28;01mimport\u001b[39;00m configure_inline_support\n\u001b[0;32m   3524\u001b[0m     \u001b[38;5;28;01mfrom\u001b[39;00m \u001b[38;5;21;01mIPython\u001b[39;00m\u001b[38;5;21;01m.\u001b[39;00m\u001b[38;5;21;01mcore\u001b[39;00m \u001b[38;5;28;01mimport\u001b[39;00m pylabtools \u001b[38;5;28;01mas\u001b[39;00m pt\n\u001b[0;32m   3525\u001b[0m     gui, backend \u001b[38;5;241m=\u001b[39m pt\u001b[38;5;241m.\u001b[39mfind_gui_and_backend(gui, \u001b[38;5;28mself\u001b[39m\u001b[38;5;241m.\u001b[39mpylab_gui_select)\n",
      "File \u001b[1;32m~\\AppData\\Local\\Programs\\Python\\Python311\\Lib\\site-packages\\matplotlib_inline\\__init__.py:1\u001b[0m\n\u001b[1;32m----> 1\u001b[0m \u001b[38;5;28;01mfrom\u001b[39;00m \u001b[38;5;21;01m.\u001b[39;00m \u001b[38;5;28;01mimport\u001b[39;00m backend_inline, config  \u001b[38;5;66;03m# noqa\u001b[39;00m\n\u001b[0;32m      2\u001b[0m __version__ \u001b[38;5;241m=\u001b[39m \u001b[38;5;124m\"\u001b[39m\u001b[38;5;124m0.1.6\u001b[39m\u001b[38;5;124m\"\u001b[39m  \u001b[38;5;66;03m# noqa\u001b[39;00m\n",
      "File \u001b[1;32m~\\AppData\\Local\\Programs\\Python\\Python311\\Lib\\site-packages\\matplotlib_inline\\backend_inline.py:6\u001b[0m\n\u001b[0;32m      1\u001b[0m \u001b[38;5;124;03m\"\"\"A matplotlib backend for publishing figures via display_data\"\"\"\u001b[39;00m\n\u001b[0;32m      3\u001b[0m \u001b[38;5;66;03m# Copyright (c) IPython Development Team.\u001b[39;00m\n\u001b[0;32m      4\u001b[0m \u001b[38;5;66;03m# Distributed under the terms of the BSD 3-Clause License.\u001b[39;00m\n\u001b[1;32m----> 6\u001b[0m \u001b[38;5;28;01mimport\u001b[39;00m \u001b[38;5;21;01mmatplotlib\u001b[39;00m\n\u001b[0;32m      7\u001b[0m \u001b[38;5;28;01mfrom\u001b[39;00m \u001b[38;5;21;01mmatplotlib\u001b[39;00m \u001b[38;5;28;01mimport\u001b[39;00m colors\n\u001b[0;32m      8\u001b[0m \u001b[38;5;28;01mfrom\u001b[39;00m \u001b[38;5;21;01mmatplotlib\u001b[39;00m\u001b[38;5;21;01m.\u001b[39;00m\u001b[38;5;21;01mbackends\u001b[39;00m \u001b[38;5;28;01mimport\u001b[39;00m backend_agg\n",
      "\u001b[1;31mModuleNotFoundError\u001b[0m: No module named 'matplotlib'"
     ]
    }
   ],
   "source": [
    "%matplotlib qt\n",
    "from sympy import *\n",
    "import sympy as sp\n",
    "from pylab import *\n",
    "\n",
    "# define an ODE\n",
    "t = Symbol('t')\n",
    "p = Function('p')(t)\n",
    "logisticODE = Eq(p.diff(t),(Rational(3,100)-5*p/10000)*p)\n",
    "pprint(logisticODE)\n",
    "\n",
    "classify_ode(logisticODE, p)\n",
    "\n",
    "# solve an ODE\n",
    "logisticSol = dsolve(logisticODE, p, hint='Bernoulli')\n",
    "logisticSol = simplify(logisticSol)   # simplify the symbolic notation\n",
    "pprint(logisticSol)\n",
    "\n",
    "# substitude C1, so that p(0)=2\n",
    "C1 = Symbol('C1')\n",
    "logisticFun = logisticSol.rhs.subs([(C1,Rational(29,60))])\n",
    "pprint(logisticFun)"
   ]
  },
  {
   "cell_type": "code",
   "execution_count": 2,
   "id": "3c287178",
   "metadata": {},
   "outputs": [
    {
     "ename": "NameError",
     "evalue": "name 'lambdify' is not defined",
     "output_type": "error",
     "traceback": [
      "\u001b[1;31m---------------------------------------------------------------------------\u001b[0m",
      "\u001b[1;31mNameError\u001b[0m                                 Traceback (most recent call last)",
      "Cell \u001b[1;32mIn[2], line 10\u001b[0m\n\u001b[0;32m      7\u001b[0m     title(pname)\n\u001b[0;32m      9\u001b[0m \u001b[38;5;66;03m# plot the solution\u001b[39;00m\n\u001b[1;32m---> 10\u001b[0m lam_logistic \u001b[38;5;241m=\u001b[39m \u001b[43mlambdify\u001b[49m((t), logisticFun)\n\u001b[0;32m     12\u001b[0m \u001b[38;5;66;03m#set the limits\u001b[39;00m\n\u001b[0;32m     13\u001b[0m x_min \u001b[38;5;241m=\u001b[39m \u001b[38;5;241m0.\u001b[39m\n",
      "\u001b[1;31mNameError\u001b[0m: name 'lambdify' is not defined"
     ]
    }
   ],
   "source": [
    "def plotDirectionField(X, Y, U, V, pname):\n",
    "    \"\"\" simple plotting of direction field.\"\"\"\n",
    "    M = np.sqrt(pow(U, 2) + pow(V, 2))\n",
    "    U = np.divide(U,M)\n",
    "    V = np.divide(V,M)\n",
    "    Q = quiver( X, Y, U, V, pivot='mid')\n",
    "    title(pname)\n",
    "    \n",
    "# plot the solution\n",
    "lam_logistic = lambdify((t), logisticFun)\n",
    "\n",
    "#set the limits\n",
    "x_min = 0.\n",
    "x_max = 300.\n",
    "y_min = 0.\n",
    "y_max = 60.\n",
    "\n",
    "Nt = 100\n",
    "T = np.linspace(0.,x_max,Nt)\n",
    "P = [lam_logistic(Te) for Te in T]\n",
    "figure(figsize=(6, 6),dpi=120)\n",
    "plot(T, P, lw=2)\n",
    "\n",
    "# generate the direction field\n",
    "X,Y = meshgrid( arange(x_min-15.,x_max+15.,15.),arange(y_min-3.,y_max+3.,3.) )\n",
    "U = np.copy(X)\n",
    "# adjust the direction field direction to the plot axis\n",
    "U.fill((y_max-y_min)/(x_max-x_min))\n",
    "V = (0.03-0.0005*Y)*Y\n",
    "plotDirectionField(X, Y, U, V, \"Logistic Growth\")\n",
    "xlim([x_min,x_max])\n",
    "ylim([y_min,y_max])\n",
    "xlabel('t')\n",
    "ylabel('p')\n",
    "show()"
   ]
  },
  {
   "cell_type": "code",
   "execution_count": 3,
   "id": "1a214b21",
   "metadata": {},
   "outputs": [],
   "source": [
    "TEnd = 100.\n",
    "n = 5\n",
    "tau = TEnd/n\n",
    "\n",
    "#initial condition\n",
    "p0 = 2\n"
   ]
  },
  {
   "cell_type": "code",
   "execution_count": 1,
   "id": "e7fda68a",
   "metadata": {},
   "outputs": [
    {
     "ename": "NameError",
     "evalue": "name 'n' is not defined",
     "output_type": "error",
     "traceback": [
      "\u001b[1;31m---------------------------------------------------------------------------\u001b[0m",
      "\u001b[1;31mNameError\u001b[0m                                 Traceback (most recent call last)",
      "Cell \u001b[1;32mIn[1], line 1\u001b[0m\n\u001b[1;32m----> 1\u001b[0m tp \u001b[38;5;241m=\u001b[39m [(k\u001b[38;5;241m-\u001b[39m\u001b[38;5;241m1\u001b[39m)\u001b[38;5;241m*\u001b[39mtau \u001b[38;5;28;01mfor\u001b[39;00m k \u001b[38;5;129;01min\u001b[39;00m \u001b[38;5;28mrange\u001b[39m(\u001b[38;5;241m1\u001b[39m,\u001b[43mn\u001b[49m\u001b[38;5;241m+\u001b[39m\u001b[38;5;241m2\u001b[39m)]\n\u001b[0;32m      2\u001b[0m \u001b[38;5;28mprint\u001b[39m(tp)\n",
      "\u001b[1;31mNameError\u001b[0m: name 'n' is not defined"
     ]
    }
   ],
   "source": [
    "tp = [(k-1)*tau for k in range(1,n+2)]\n",
    "print(tp)\n"
   ]
  },
  {
   "cell_type": "code",
   "execution_count": 2,
   "id": "18ad56bb",
   "metadata": {},
   "outputs": [
    {
     "ename": "NameError",
     "evalue": "name 'TEnd' is not defined",
     "output_type": "error",
     "traceback": [
      "\u001b[1;31m---------------------------------------------------------------------------\u001b[0m",
      "\u001b[1;31mNameError\u001b[0m                                 Traceback (most recent call last)",
      "Cell \u001b[1;32mIn[2], line 3\u001b[0m\n\u001b[0;32m      1\u001b[0m \u001b[38;5;66;03m# set the limits\u001b[39;00m\n\u001b[0;32m      2\u001b[0m x_min \u001b[38;5;241m=\u001b[39m \u001b[38;5;241m0.\u001b[39m\n\u001b[1;32m----> 3\u001b[0m x_max \u001b[38;5;241m=\u001b[39m \u001b[43mTEnd\u001b[49m\n\u001b[0;32m      4\u001b[0m y_min \u001b[38;5;241m=\u001b[39m \u001b[38;5;241m0.\u001b[39m\n\u001b[0;32m      5\u001b[0m y_max \u001b[38;5;241m=\u001b[39m \u001b[38;5;241m60.\u001b[39m\n",
      "\u001b[1;31mNameError\u001b[0m: name 'TEnd' is not defined"
     ]
    }
   ],
   "source": [
    "# set the limits\n",
    "x_min = 0.\n",
    "x_max = TEnd\n",
    "y_min = 0.\n",
    "y_max = 60.\n",
    "\n",
    "f = figure(figsize=(6, 6),dpi=120)\n",
    "\n",
    "# plot the analytical solution\n",
    "plot(T, P, lw=2)\n",
    "\n",
    "# plot the direction field\n",
    "X,Y = meshgrid( arange(x_min,x_max,5.),arange(y_min,y_max,1.) )\n",
    "U = np.copy(X)\n",
    "# adjust the direction field direction to the plot axis\n",
    "U.fill((y_max-y_min)/(x_max-x_min))\n",
    "V = (0.03-0.0005*Y)*Y\n",
    "plotDirectionField(X, Y, U, V, \"Logistic Growth\")\n",
    "\n",
    "# plot the intervals\n",
    "vlines = [[[i,i]]+[[y_min,y_max]] for i in tp]\n",
    "vlines = [j for i in vlines for j in i]\n",
    "plot(*vlines,c='r')\n",
    "\n",
    "xlim([x_min,x_max])\n",
    "ylim([y_min,y_max])\n",
    "xlabel('t')\n",
    "ylabel('p')\n",
    "show()\n"
   ]
  },
  {
   "cell_type": "code",
   "execution_count": 3,
   "id": "ba936597",
   "metadata": {},
   "outputs": [
    {
     "ename": "NameError",
     "evalue": "name 'zeros' is not defined",
     "output_type": "error",
     "traceback": [
      "\u001b[1;31m---------------------------------------------------------------------------\u001b[0m",
      "\u001b[1;31mNameError\u001b[0m                                 Traceback (most recent call last)",
      "Cell \u001b[1;32mIn[3], line 1\u001b[0m\n\u001b[1;32m----> 1\u001b[0m pp \u001b[38;5;241m=\u001b[39m \u001b[43mzeros\u001b[49m(n\u001b[38;5;241m+\u001b[39m\u001b[38;5;241m1\u001b[39m)\n\u001b[0;32m      2\u001b[0m \u001b[38;5;28mprint\u001b[39m(pp)\n",
      "\u001b[1;31mNameError\u001b[0m: name 'zeros' is not defined"
     ]
    }
   ],
   "source": [
    "pp = zeros(n+1)\n",
    "print(pp)\n"
   ]
  },
  {
   "cell_type": "code",
   "execution_count": 4,
   "id": "7c389019",
   "metadata": {},
   "outputs": [
    {
     "ename": "NameError",
     "evalue": "name 'p0' is not defined",
     "output_type": "error",
     "traceback": [
      "\u001b[1;31m---------------------------------------------------------------------------\u001b[0m",
      "\u001b[1;31mNameError\u001b[0m                                 Traceback (most recent call last)",
      "Cell \u001b[1;32mIn[4], line 1\u001b[0m\n\u001b[1;32m----> 1\u001b[0m pp[\u001b[38;5;241m0\u001b[39m] \u001b[38;5;241m=\u001b[39m \u001b[43mp0\u001b[49m\n",
      "\u001b[1;31mNameError\u001b[0m: name 'p0' is not defined"
     ]
    }
   ],
   "source": [
    "pp[0] = p0\n"
   ]
  },
  {
   "cell_type": "code",
   "execution_count": 5,
   "id": "c410bb59",
   "metadata": {},
   "outputs": [
    {
     "ename": "NameError",
     "evalue": "name 'Symbol' is not defined",
     "output_type": "error",
     "traceback": [
      "\u001b[1;31m---------------------------------------------------------------------------\u001b[0m",
      "\u001b[1;31mNameError\u001b[0m                                 Traceback (most recent call last)",
      "Cell \u001b[1;32mIn[5], line 3\u001b[0m\n\u001b[0;32m      1\u001b[0m \u001b[38;5;66;03m# get the right hand side function from the logistic ODE\u001b[39;00m\n\u001b[0;32m      2\u001b[0m \u001b[38;5;66;03m# substitute the function p(t) by some symbol x and lambdify the result\u001b[39;00m\n\u001b[1;32m----> 3\u001b[0m x \u001b[38;5;241m=\u001b[39m \u001b[43mSymbol\u001b[49m(\u001b[38;5;124m'\u001b[39m\u001b[38;5;124mx\u001b[39m\u001b[38;5;124m'\u001b[39m)\n\u001b[0;32m      4\u001b[0m lam_logistic_rhs \u001b[38;5;241m=\u001b[39m lambdify(x,logisticODE\u001b[38;5;241m.\u001b[39mrhs\u001b[38;5;241m.\u001b[39msubs(p,x))\n\u001b[0;32m      6\u001b[0m \u001b[38;5;28;01mfor\u001b[39;00m k \u001b[38;5;129;01min\u001b[39;00m \u001b[38;5;28mrange\u001b[39m(\u001b[38;5;241m0\u001b[39m,n):\n",
      "\u001b[1;31mNameError\u001b[0m: name 'Symbol' is not defined"
     ]
    }
   ],
   "source": [
    "# get the right hand side function from the logistic ODE\n",
    "# substitute the function p(t) by some symbol x and lambdify the result\n",
    "x = Symbol('x')\n",
    "lam_logistic_rhs = lambdify(x,logisticODE.rhs.subs(p,x))\n",
    "\n",
    "for k in range(0,n):\n",
    "    pp[k+1] = pp[k] + tau*lam_logistic_rhs(pp[k])\n",
    "    \n",
    "print(pp)\n",
    "ax = f.gca()\n",
    "ax.plot(tp,pp,lw=2,c='g')\n",
    "f.show()"
   ]
  },
  {
   "cell_type": "code",
   "execution_count": 6,
   "id": "0bb6f96c",
   "metadata": {},
   "outputs": [
    {
     "ename": "NameError",
     "evalue": "name 'zeros' is not defined",
     "output_type": "error",
     "traceback": [
      "\u001b[1;31m---------------------------------------------------------------------------\u001b[0m",
      "\u001b[1;31mNameError\u001b[0m                                 Traceback (most recent call last)",
      "Cell \u001b[1;32mIn[6], line 1\u001b[0m\n\u001b[1;32m----> 1\u001b[0m pp \u001b[38;5;241m=\u001b[39m \u001b[43mzeros\u001b[49m(n\u001b[38;5;241m+\u001b[39m\u001b[38;5;241m1\u001b[39m)\n\u001b[0;32m      2\u001b[0m pp[\u001b[38;5;241m0\u001b[39m] \u001b[38;5;241m=\u001b[39m p0\n\u001b[0;32m      4\u001b[0m \u001b[38;5;28;01mfor\u001b[39;00m k \u001b[38;5;129;01min\u001b[39;00m \u001b[38;5;28mrange\u001b[39m(\u001b[38;5;241m0\u001b[39m,n):\n\u001b[0;32m      5\u001b[0m     \u001b[38;5;66;03m# note the change: pp[k+1] instead of pp[k]\u001b[39;00m\n",
      "\u001b[1;31mNameError\u001b[0m: name 'zeros' is not defined"
     ]
    }
   ],
   "source": [
    "pp = zeros(n+1)\n",
    "pp[0] = p0\n",
    "\n",
    "for k in range(0,n):\n",
    "    # note the change: pp[k+1] instead of pp[k]\n",
    "    pp[k+1] = pp[k] + tau*lam_logistic_rhs(pp[k+1])\n",
    "    \n",
    "print(pp)"
   ]
  },
  {
   "cell_type": "code",
   "execution_count": 7,
   "id": "3e36815b",
   "metadata": {},
   "outputs": [
    {
     "ename": "NameError",
     "evalue": "name 'zeros' is not defined",
     "output_type": "error",
     "traceback": [
      "\u001b[1;31m---------------------------------------------------------------------------\u001b[0m",
      "\u001b[1;31mNameError\u001b[0m                                 Traceback (most recent call last)",
      "Cell \u001b[1;32mIn[7], line 1\u001b[0m\n\u001b[1;32m----> 1\u001b[0m pp \u001b[38;5;241m=\u001b[39m \u001b[43mzeros\u001b[49m(n\u001b[38;5;241m+\u001b[39m\u001b[38;5;241m1\u001b[39m)\n\u001b[0;32m      2\u001b[0m pp[\u001b[38;5;241m0\u001b[39m] \u001b[38;5;241m=\u001b[39m p0\n\u001b[0;32m      4\u001b[0m logisticRHS \u001b[38;5;241m=\u001b[39m logisticODE\u001b[38;5;241m.\u001b[39mrhs\u001b[38;5;241m.\u001b[39msubs(p,x)\n",
      "\u001b[1;31mNameError\u001b[0m: name 'zeros' is not defined"
     ]
    }
   ],
   "source": [
    "pp = zeros(n+1)\n",
    "pp[0] = p0\n",
    "\n",
    "logisticRHS = logisticODE.rhs.subs(p,x)\n",
    "\n",
    "print(logisticRHS)\n",
    "\n",
    "for k in range(0,n):\n",
    "    # use pnew as the value in the next step\n",
    "    # ft := subs(p(t)=pnew,rhs(popeq));\n",
    "    stepeq = Eq(x, Float(pp[k]) + Float(tau)*logisticRHS)\n",
    "    print(stepeq)\n",
    "    stepeqSOL = sp.solve(stepeq,x)\n",
    "    print(stepeqSOL)\n",
    "    # the quadratic equation stepeq has two solutions\n",
    "    # in this example, we can always take the bigger (positive) one\n",
    "    pp[k+1] = max(stepeqSOL)\n",
    "    \n",
    "print(pp)\n",
    "ax = f.gca()\n",
    "ax.plot(tp,pp,lw=2,c='m')\n",
    "f.show()"
   ]
  },
  {
   "cell_type": "code",
   "execution_count": 8,
   "id": "3d8a297b",
   "metadata": {},
   "outputs": [
    {
     "ename": "NameError",
     "evalue": "name 'Eq' is not defined",
     "output_type": "error",
     "traceback": [
      "\u001b[1;31m---------------------------------------------------------------------------\u001b[0m",
      "\u001b[1;31mNameError\u001b[0m                                 Traceback (most recent call last)",
      "Cell \u001b[1;32mIn[8], line 2\u001b[0m\n\u001b[0;32m      1\u001b[0m \u001b[38;5;66;03m# define an ODE\u001b[39;00m\n\u001b[1;32m----> 2\u001b[0m stabODE \u001b[38;5;241m=\u001b[39m \u001b[43mEq\u001b[49m(p\u001b[38;5;241m.\u001b[39mdiff(t),\u001b[38;5;241m-\u001b[39m\u001b[38;5;241m2\u001b[39m\u001b[38;5;241m*\u001b[39mp\u001b[38;5;241m+\u001b[39m\u001b[38;5;241m1\u001b[39m)\n\u001b[0;32m      3\u001b[0m pprint(stabODE)\n\u001b[0;32m      5\u001b[0m \u001b[38;5;66;03m# solve an ODE\u001b[39;00m\n",
      "\u001b[1;31mNameError\u001b[0m: name 'Eq' is not defined"
     ]
    }
   ],
   "source": [
    "# define an ODE\n",
    "stabODE = Eq(p.diff(t),-2*p+1)\n",
    "pprint(stabODE)\n",
    "\n",
    "# solve an ODE\n",
    "stabSol = dsolve(stabODE,p)\n",
    "pprint(stabSol)\n",
    "\n",
    "# substitute C1, so that p(0)=1\n",
    "stabFun = stabSol.rhs.subs([(C1,1)])\n",
    "pprint(stabFun)"
   ]
  },
  {
   "cell_type": "code",
   "execution_count": 9,
   "id": "100d192e",
   "metadata": {},
   "outputs": [
    {
     "ename": "NameError",
     "evalue": "name 'lambdify' is not defined",
     "output_type": "error",
     "traceback": [
      "\u001b[1;31m---------------------------------------------------------------------------\u001b[0m",
      "\u001b[1;31mNameError\u001b[0m                                 Traceback (most recent call last)",
      "Cell \u001b[1;32mIn[9], line 2\u001b[0m\n\u001b[0;32m      1\u001b[0m \u001b[38;5;66;03m# plot the solution\u001b[39;00m\n\u001b[1;32m----> 2\u001b[0m lam_stab \u001b[38;5;241m=\u001b[39m \u001b[43mlambdify\u001b[49m(t, stabFun)\n\u001b[0;32m      4\u001b[0m \u001b[38;5;66;03m#set the limits\u001b[39;00m\n\u001b[0;32m      5\u001b[0m x_min \u001b[38;5;241m=\u001b[39m \u001b[38;5;241m0.\u001b[39m\n",
      "\u001b[1;31mNameError\u001b[0m: name 'lambdify' is not defined"
     ]
    }
   ],
   "source": [
    "# plot the solution\n",
    "lam_stab = lambdify(t, stabFun)\n",
    "\n",
    "#set the limits\n",
    "x_min = 0.\n",
    "x_max = 5.\n",
    "y_min = 0.49\n",
    "y_max = 1.\n",
    "\n",
    "Nt = 100\n",
    "T = np.linspace(0.,x_max,Nt)\n",
    "P = [lam_stab(Te) for Te in T]\n",
    "\n",
    "fstab = figure(figsize=(6, 6),dpi=120)\n",
    "plot(T, P, lw=2)\n",
    "\n",
    "# generate the direction field\n",
    "X,Y = meshgrid( arange(x_min-0.2,x_max+0.2,0.2),arange(y_min-0.03,y_max+0.03,0.03) )\n",
    "U = np.copy(X)\n",
    "# adjust the direction field direction to the plot axis\n",
    "U.fill((y_max-y_min)/(x_max-x_min))\n",
    "V = -2*Y+1\n",
    "plotDirectionField(X, Y, U, V, \"\")\n",
    "xlim([x_min,x_max])\n",
    "ylim([y_min,y_max])\n",
    "xlabel('t')\n",
    "ylabel('p')\n",
    "show()"
   ]
  },
  {
   "cell_type": "code",
   "execution_count": 10,
   "id": "eb493e1b",
   "metadata": {},
   "outputs": [],
   "source": [
    "TEnd = 5.; n = 5; tau = TEnd/n\n"
   ]
  },
  {
   "cell_type": "code",
   "execution_count": 11,
   "id": "e46be268",
   "metadata": {},
   "outputs": [
    {
     "ename": "NameError",
     "evalue": "name 'zeros' is not defined",
     "output_type": "error",
     "traceback": [
      "\u001b[1;31m---------------------------------------------------------------------------\u001b[0m",
      "\u001b[1;31mNameError\u001b[0m                                 Traceback (most recent call last)",
      "Cell \u001b[1;32mIn[11], line 1\u001b[0m\n\u001b[1;32m----> 1\u001b[0m pp \u001b[38;5;241m=\u001b[39m \u001b[43mzeros\u001b[49m(n\u001b[38;5;241m+\u001b[39m\u001b[38;5;241m1\u001b[39m)\n\u001b[0;32m      2\u001b[0m pp[\u001b[38;5;241m0\u001b[39m] \u001b[38;5;241m=\u001b[39m \u001b[38;5;241m1\u001b[39m\n\u001b[0;32m      3\u001b[0m pp[\u001b[38;5;241m1\u001b[39m] \u001b[38;5;241m=\u001b[39m lam_stab(tau)\n",
      "\u001b[1;31mNameError\u001b[0m: name 'zeros' is not defined"
     ]
    }
   ],
   "source": [
    "pp = zeros(n+1)\n",
    "pp[0] = 1\n",
    "pp[1] = lam_stab(tau)\n",
    "\n",
    "lam_stab_rhs = lambdify(x,stabODE.rhs.subs([(p,x)]))\n",
    "\n",
    "for k in range(1,n):\n",
    "    # use pnew as the value in the next step\n",
    "    pp[k+1] = pp[k-1] + 2*tau*lam_stab_rhs(pp[k])\n",
    "    \n",
    "print(pp)"
   ]
  },
  {
   "cell_type": "code",
   "execution_count": 12,
   "id": "34036adf",
   "metadata": {},
   "outputs": [
    {
     "ename": "NameError",
     "evalue": "name 'fstab' is not defined",
     "output_type": "error",
     "traceback": [
      "\u001b[1;31m---------------------------------------------------------------------------\u001b[0m",
      "\u001b[1;31mNameError\u001b[0m                                 Traceback (most recent call last)",
      "Cell \u001b[1;32mIn[12], line 1\u001b[0m\n\u001b[1;32m----> 1\u001b[0m axstab \u001b[38;5;241m=\u001b[39m \u001b[43mfstab\u001b[49m\u001b[38;5;241m.\u001b[39mgca()\n\u001b[0;32m      2\u001b[0m tp \u001b[38;5;241m=\u001b[39m [(k\u001b[38;5;241m-\u001b[39m\u001b[38;5;241m1\u001b[39m)\u001b[38;5;241m*\u001b[39mtau \u001b[38;5;28;01mfor\u001b[39;00m k \u001b[38;5;129;01min\u001b[39;00m \u001b[38;5;28mrange\u001b[39m(\u001b[38;5;241m1\u001b[39m,n\u001b[38;5;241m+\u001b[39m\u001b[38;5;241m2\u001b[39m)]\n\u001b[0;32m      3\u001b[0m axstab\u001b[38;5;241m.\u001b[39mplot(tp,pp,lw\u001b[38;5;241m=\u001b[39m\u001b[38;5;241m2\u001b[39m,c\u001b[38;5;241m=\u001b[39m\u001b[38;5;124m'\u001b[39m\u001b[38;5;124mg\u001b[39m\u001b[38;5;124m'\u001b[39m)\n",
      "\u001b[1;31mNameError\u001b[0m: name 'fstab' is not defined"
     ]
    }
   ],
   "source": [
    "axstab = fstab.gca()\n",
    "tp = [(k-1)*tau for k in range(1,n+2)]\n",
    "axstab.plot(tp,pp,lw=2,c='g')\n",
    "fstab.show()"
   ]
  },
  {
   "cell_type": "code",
   "execution_count": 13,
   "id": "62eb41b4",
   "metadata": {},
   "outputs": [
    {
     "ename": "NameError",
     "evalue": "name 'Eq' is not defined",
     "output_type": "error",
     "traceback": [
      "\u001b[1;31m---------------------------------------------------------------------------\u001b[0m",
      "\u001b[1;31mNameError\u001b[0m                                 Traceback (most recent call last)",
      "Cell \u001b[1;32mIn[13], line 2\u001b[0m\n\u001b[0;32m      1\u001b[0m \u001b[38;5;66;03m# define an ODE\u001b[39;00m\n\u001b[1;32m----> 2\u001b[0m stiffODE \u001b[38;5;241m=\u001b[39m \u001b[43mEq\u001b[49m(p\u001b[38;5;241m.\u001b[39mdiff(t),\u001b[38;5;241m100\u001b[39m\u001b[38;5;241m-\u001b[39m\u001b[38;5;241m100\u001b[39m\u001b[38;5;241m*\u001b[39mp)\n\u001b[0;32m      3\u001b[0m pprint(stiffODE)\n\u001b[0;32m      5\u001b[0m \u001b[38;5;66;03m# solve an ODE\u001b[39;00m\n",
      "\u001b[1;31mNameError\u001b[0m: name 'Eq' is not defined"
     ]
    }
   ],
   "source": [
    "# define an ODE\n",
    "stiffODE = Eq(p.diff(t),100-100*p)\n",
    "pprint(stiffODE)\n",
    "\n",
    "# solve an ODE\n",
    "stiffSol = dsolve(stiffODE,p)\n",
    "pprint(stiffSol)\n",
    "\n",
    "# substitude C1, so that p(0)=2\n",
    "stiffFun = stiffSol.rhs.subs([(C1,1)])\n",
    "pprint(stiffFun)"
   ]
  },
  {
   "cell_type": "code",
   "execution_count": 14,
   "id": "941f82e7",
   "metadata": {},
   "outputs": [
    {
     "ename": "NameError",
     "evalue": "name 'lambdify' is not defined",
     "output_type": "error",
     "traceback": [
      "\u001b[1;31m---------------------------------------------------------------------------\u001b[0m",
      "\u001b[1;31mNameError\u001b[0m                                 Traceback (most recent call last)",
      "Cell \u001b[1;32mIn[14], line 2\u001b[0m\n\u001b[0;32m      1\u001b[0m \u001b[38;5;66;03m# plot the solution\u001b[39;00m\n\u001b[1;32m----> 2\u001b[0m lam_stiff \u001b[38;5;241m=\u001b[39m \u001b[43mlambdify\u001b[49m(t, stiffFun)\n\u001b[0;32m      4\u001b[0m \u001b[38;5;66;03m#set the limits\u001b[39;00m\n\u001b[0;32m      5\u001b[0m x_min \u001b[38;5;241m=\u001b[39m \u001b[38;5;241m0.\u001b[39m\n",
      "\u001b[1;31mNameError\u001b[0m: name 'lambdify' is not defined"
     ]
    }
   ],
   "source": [
    "# plot the solution\n",
    "lam_stiff = lambdify(t, stiffFun)\n",
    "\n",
    "#set the limits\n",
    "x_min = 0.\n",
    "x_max = 1.\n",
    "y_min = 0.\n",
    "y_max = 9.\n",
    "\n",
    "Nt = 100\n",
    "T = np.linspace(0.,x_max,Nt)\n",
    "P = [lam_stiff(Te) for Te in T]\n",
    "\n",
    "fstiff = figure(figsize=(6, 6),dpi=120)\n",
    "plot(T, P, lw=2)\n",
    "\n",
    "# generate the direction field\n",
    "X,Y = meshgrid( arange(x_min-0.05,x_max+0.05,0.05),arange(y_min-0.5,y_max+0.5,0.5) )\n",
    "U = np.copy(X)\n",
    "# adjust the direction field direction to the plot axis\n",
    "U.fill((y_max-y_min)/(x_max-x_min))\n",
    "V = 100-100*Y\n",
    "plotDirectionField(X, Y, U, V, \"\")\n",
    "xlim([x_min,x_max])\n",
    "ylim([y_min,y_max])\n",
    "xlabel('t')\n",
    "ylabel('p')\n",
    "show()\n"
   ]
  },
  {
   "cell_type": "code",
   "execution_count": 15,
   "id": "1ffab518",
   "metadata": {},
   "outputs": [
    {
     "ename": "NameError",
     "evalue": "name 'lambdify' is not defined",
     "output_type": "error",
     "traceback": [
      "\u001b[1;31m---------------------------------------------------------------------------\u001b[0m",
      "\u001b[1;31mNameError\u001b[0m                                 Traceback (most recent call last)",
      "Cell \u001b[1;32mIn[15], line 3\u001b[0m\n\u001b[0;32m      1\u001b[0m \u001b[38;5;66;03m#from scipy.integrate import ode\u001b[39;00m\n\u001b[1;32m----> 3\u001b[0m lam_stiff_rhs \u001b[38;5;241m=\u001b[39m \u001b[43mlambdify\u001b[49m(x,stiffODE\u001b[38;5;241m.\u001b[39mrhs\u001b[38;5;241m.\u001b[39msubs([(p,x)]))\n\u001b[0;32m      5\u001b[0m t0, p0 \u001b[38;5;241m=\u001b[39m \u001b[38;5;241m0.\u001b[39m, \u001b[38;5;241m2.\u001b[39m\n\u001b[0;32m      7\u001b[0m TEnd \u001b[38;5;241m=\u001b[39m \u001b[38;5;241m1.\u001b[39m\n",
      "\u001b[1;31mNameError\u001b[0m: name 'lambdify' is not defined"
     ]
    }
   ],
   "source": [
    "#from scipy.integrate import ode\n",
    "\n",
    "lam_stiff_rhs = lambdify(x,stiffODE.rhs.subs([(p,x)]))\n",
    "\n",
    "t0, p0 = 0., 2.\n",
    "\n",
    "TEnd = 1.\n",
    "n = 49\n",
    "tau = TEnd/n\n",
    "\n",
    "def f(t, p):\n",
    "    return lam_stiff_rhs(p)\n",
    "\n",
    "# Heun's method\n",
    "a1  = 0.5\n",
    "a2  = 0.5\n",
    "p1  = 1.0\n",
    "q11 = 1.0\n",
    "\n",
    "pp = zeros(n+1)\n",
    "pp[0] = p0\n",
    "\n",
    "for k in range(0,n):\n",
    "    tk = t0 + tau*k\n",
    "    k1 = f(tk, pp[k])\n",
    "    k2 = f(tk+p1*tau,pp[k]+q11*k1*tau)\n",
    "    pp[k+1] = pp[k] + (a1*k1+a2*k2)*tau\n",
    "    \n",
    "\n",
    "\n",
    "### built-in scipy ode solver\n",
    "# r = ode(f).set_integrator('vodi',method='adams',order=1,nsteps=1)\n",
    "# r.set_initial_value(p0, t0)\n",
    "\n",
    "# while r.successful() and r.t < TEnd:\n",
    "#    r.integrate(r.t+tau)\n",
    "#    print(\"%g %g\" % (r.t, r.y))\n"
   ]
  },
  {
   "cell_type": "code",
   "execution_count": 16,
   "id": "821f311d",
   "metadata": {},
   "outputs": [
    {
     "ename": "NameError",
     "evalue": "name 'fstiff' is not defined",
     "output_type": "error",
     "traceback": [
      "\u001b[1;31m---------------------------------------------------------------------------\u001b[0m",
      "\u001b[1;31mNameError\u001b[0m                                 Traceback (most recent call last)",
      "Cell \u001b[1;32mIn[16], line 1\u001b[0m\n\u001b[1;32m----> 1\u001b[0m axstiff \u001b[38;5;241m=\u001b[39m \u001b[43mfstiff\u001b[49m\u001b[38;5;241m.\u001b[39mgca()\n\u001b[0;32m      2\u001b[0m tp \u001b[38;5;241m=\u001b[39m [(k\u001b[38;5;241m-\u001b[39m\u001b[38;5;241m1\u001b[39m)\u001b[38;5;241m*\u001b[39mtau \u001b[38;5;28;01mfor\u001b[39;00m k \u001b[38;5;129;01min\u001b[39;00m \u001b[38;5;28mrange\u001b[39m(\u001b[38;5;241m1\u001b[39m,n\u001b[38;5;241m+\u001b[39m\u001b[38;5;241m2\u001b[39m)]\n\u001b[0;32m      3\u001b[0m axstiff\u001b[38;5;241m.\u001b[39mplot(tp,pp,lw\u001b[38;5;241m=\u001b[39m\u001b[38;5;241m2\u001b[39m,c\u001b[38;5;241m=\u001b[39m\u001b[38;5;124m'\u001b[39m\u001b[38;5;124mg\u001b[39m\u001b[38;5;124m'\u001b[39m)\n",
      "\u001b[1;31mNameError\u001b[0m: name 'fstiff' is not defined"
     ]
    }
   ],
   "source": [
    "axstiff = fstiff.gca()\n",
    "tp = [(k-1)*tau for k in range(1,n+2)]\n",
    "axstiff.plot(tp,pp,lw=2,c='g')\n",
    "fstiff.show()"
   ]
  },
  {
   "cell_type": "code",
   "execution_count": 17,
   "id": "b65be938",
   "metadata": {},
   "outputs": [
    {
     "ename": "NameError",
     "evalue": "name 'zeros' is not defined",
     "output_type": "error",
     "traceback": [
      "\u001b[1;31m---------------------------------------------------------------------------\u001b[0m",
      "\u001b[1;31mNameError\u001b[0m                                 Traceback (most recent call last)",
      "Cell \u001b[1;32mIn[17], line 4\u001b[0m\n\u001b[0;32m      1\u001b[0m n \u001b[38;5;241m=\u001b[39m \u001b[38;5;241m100\u001b[39m\n\u001b[0;32m      2\u001b[0m tau \u001b[38;5;241m=\u001b[39m TEnd\u001b[38;5;241m/\u001b[39mn\n\u001b[1;32m----> 4\u001b[0m pp \u001b[38;5;241m=\u001b[39m \u001b[43mzeros\u001b[49m(n\u001b[38;5;241m+\u001b[39m\u001b[38;5;241m1\u001b[39m)\n\u001b[0;32m      5\u001b[0m pp[\u001b[38;5;241m0\u001b[39m] \u001b[38;5;241m=\u001b[39m p0\n\u001b[0;32m      7\u001b[0m \u001b[38;5;28;01mfor\u001b[39;00m k \u001b[38;5;129;01min\u001b[39;00m \u001b[38;5;28mrange\u001b[39m(\u001b[38;5;241m0\u001b[39m,n):\n",
      "\u001b[1;31mNameError\u001b[0m: name 'zeros' is not defined"
     ]
    }
   ],
   "source": [
    "n = 100\n",
    "tau = TEnd/n\n",
    "\n",
    "pp = zeros(n+1)\n",
    "pp[0] = p0\n",
    "\n",
    "for k in range(0,n):\n",
    "    tk = t0 + tau*k\n",
    "    k1 = f(tk, pp[k])\n",
    "    k2 = f(tk+p1*tau,pp[k]+q11*k1*tau)\n",
    "    pp[k+1] = pp[k] + (a1*k1+a2*k2)*tau"
   ]
  },
  {
   "cell_type": "code",
   "execution_count": 18,
   "id": "99b6245f",
   "metadata": {},
   "outputs": [
    {
     "ename": "NameError",
     "evalue": "name 'fstiff' is not defined",
     "output_type": "error",
     "traceback": [
      "\u001b[1;31m---------------------------------------------------------------------------\u001b[0m",
      "\u001b[1;31mNameError\u001b[0m                                 Traceback (most recent call last)",
      "Cell \u001b[1;32mIn[18], line 1\u001b[0m\n\u001b[1;32m----> 1\u001b[0m axstiff \u001b[38;5;241m=\u001b[39m \u001b[43mfstiff\u001b[49m\u001b[38;5;241m.\u001b[39mgca()\n\u001b[0;32m      2\u001b[0m tp \u001b[38;5;241m=\u001b[39m [(k\u001b[38;5;241m-\u001b[39m\u001b[38;5;241m1\u001b[39m)\u001b[38;5;241m*\u001b[39mtau \u001b[38;5;28;01mfor\u001b[39;00m k \u001b[38;5;129;01min\u001b[39;00m \u001b[38;5;28mrange\u001b[39m(\u001b[38;5;241m1\u001b[39m,n\u001b[38;5;241m+\u001b[39m\u001b[38;5;241m2\u001b[39m)]\n\u001b[0;32m      3\u001b[0m axstiff\u001b[38;5;241m.\u001b[39mplot(tp,pp,lw\u001b[38;5;241m=\u001b[39m\u001b[38;5;241m2\u001b[39m,c\u001b[38;5;241m=\u001b[39m\u001b[38;5;124m'\u001b[39m\u001b[38;5;124mr\u001b[39m\u001b[38;5;124m'\u001b[39m)\n",
      "\u001b[1;31mNameError\u001b[0m: name 'fstiff' is not defined"
     ]
    }
   ],
   "source": [
    "axstiff = fstiff.gca()\n",
    "tp = [(k-1)*tau for k in range(1,n+2)]\n",
    "axstiff.plot(tp,pp,lw=2,c='r')\n",
    "fstiff.show()"
   ]
  },
  {
   "cell_type": "code",
   "execution_count": 19,
   "id": "d0b042fa",
   "metadata": {},
   "outputs": [
    {
     "ename": "NameError",
     "evalue": "name 'lambdify' is not defined",
     "output_type": "error",
     "traceback": [
      "\u001b[1;31m---------------------------------------------------------------------------\u001b[0m",
      "\u001b[1;31mNameError\u001b[0m                                 Traceback (most recent call last)",
      "Cell \u001b[1;32mIn[19], line 2\u001b[0m\n\u001b[0;32m      1\u001b[0m t0 \u001b[38;5;241m=\u001b[39m \u001b[38;5;241m0.02\u001b[39m\n\u001b[1;32m----> 2\u001b[0m lam_stiff_fun \u001b[38;5;241m=\u001b[39m \u001b[43mlambdify\u001b[49m(t, stiffFun)\n\u001b[0;32m      3\u001b[0m newstart \u001b[38;5;241m=\u001b[39m lam_stiff_fun(t0)\n\u001b[0;32m      4\u001b[0m \u001b[38;5;28mprint\u001b[39m(newstart)\n",
      "\u001b[1;31mNameError\u001b[0m: name 'lambdify' is not defined"
     ]
    }
   ],
   "source": [
    "t0 = 0.02\n",
    "lam_stiff_fun = lambdify(t, stiffFun)\n",
    "newstart = lam_stiff_fun(t0)\n",
    "print(newstart)"
   ]
  },
  {
   "cell_type": "code",
   "execution_count": 20,
   "id": "5161c7b6",
   "metadata": {},
   "outputs": [
    {
     "ename": "NameError",
     "evalue": "name 'zeros' is not defined",
     "output_type": "error",
     "traceback": [
      "\u001b[1;31m---------------------------------------------------------------------------\u001b[0m",
      "\u001b[1;31mNameError\u001b[0m                                 Traceback (most recent call last)",
      "Cell \u001b[1;32mIn[20], line 4\u001b[0m\n\u001b[0;32m      1\u001b[0m n \u001b[38;5;241m=\u001b[39m \u001b[38;5;241m49\u001b[39m\n\u001b[0;32m      2\u001b[0m tau \u001b[38;5;241m=\u001b[39m TEnd\u001b[38;5;241m/\u001b[39mn\n\u001b[1;32m----> 4\u001b[0m pp \u001b[38;5;241m=\u001b[39m \u001b[43mzeros\u001b[49m(n\u001b[38;5;241m+\u001b[39m\u001b[38;5;241m1\u001b[39m)\n\u001b[0;32m      5\u001b[0m pp[\u001b[38;5;241m0\u001b[39m] \u001b[38;5;241m=\u001b[39m newstart\n\u001b[0;32m      7\u001b[0m \u001b[38;5;28;01mfor\u001b[39;00m k \u001b[38;5;129;01min\u001b[39;00m \u001b[38;5;28mrange\u001b[39m(\u001b[38;5;241m0\u001b[39m,n):\n",
      "\u001b[1;31mNameError\u001b[0m: name 'zeros' is not defined"
     ]
    }
   ],
   "source": [
    "n = 49\n",
    "tau = TEnd/n\n",
    "\n",
    "pp = zeros(n+1)\n",
    "pp[0] = newstart\n",
    "\n",
    "for k in range(0,n):\n",
    "    tk = t0 + tau*k\n",
    "    k1 = f(tk, pp[k])\n",
    "    k2 = f(tk+p1*tau,pp[k]+q11*k1*tau)\n",
    "    pp[k+1] = pp[k] + (a1*k1+a2*k2)*tau"
   ]
  },
  {
   "cell_type": "code",
   "execution_count": 21,
   "id": "3a024245",
   "metadata": {},
   "outputs": [
    {
     "ename": "NameError",
     "evalue": "name 'axstiff' is not defined",
     "output_type": "error",
     "traceback": [
      "\u001b[1;31m---------------------------------------------------------------------------\u001b[0m",
      "\u001b[1;31mNameError\u001b[0m                                 Traceback (most recent call last)",
      "Cell \u001b[1;32mIn[21], line 2\u001b[0m\n\u001b[0;32m      1\u001b[0m tp \u001b[38;5;241m=\u001b[39m [t0\u001b[38;5;241m+\u001b[39m(k\u001b[38;5;241m-\u001b[39m\u001b[38;5;241m1\u001b[39m)\u001b[38;5;241m*\u001b[39mtau \u001b[38;5;28;01mfor\u001b[39;00m k \u001b[38;5;129;01min\u001b[39;00m \u001b[38;5;28mrange\u001b[39m(\u001b[38;5;241m1\u001b[39m,n\u001b[38;5;241m+\u001b[39m\u001b[38;5;241m2\u001b[39m)]\n\u001b[1;32m----> 2\u001b[0m \u001b[43maxstiff\u001b[49m\u001b[38;5;241m.\u001b[39mplot(tp,pp,lw\u001b[38;5;241m=\u001b[39m\u001b[38;5;241m2\u001b[39m,c\u001b[38;5;241m=\u001b[39m\u001b[38;5;124m'\u001b[39m\u001b[38;5;124my\u001b[39m\u001b[38;5;124m'\u001b[39m)\n\u001b[0;32m      3\u001b[0m fstiff\u001b[38;5;241m.\u001b[39mshow()\n",
      "\u001b[1;31mNameError\u001b[0m: name 'axstiff' is not defined"
     ]
    }
   ],
   "source": [
    "tp = [t0+(k-1)*tau for k in range(1,n+2)]\n",
    "axstiff.plot(tp,pp,lw=2,c='y')\n",
    "fstiff.show()"
   ]
  },
  {
   "cell_type": "code",
   "execution_count": 22,
   "id": "f85abffb",
   "metadata": {},
   "outputs": [
    {
     "ename": "NameError",
     "evalue": "name 'lam_stiff_fun' is not defined",
     "output_type": "error",
     "traceback": [
      "\u001b[1;31m---------------------------------------------------------------------------\u001b[0m",
      "\u001b[1;31mNameError\u001b[0m                                 Traceback (most recent call last)",
      "Cell \u001b[1;32mIn[22], line 2\u001b[0m\n\u001b[0;32m      1\u001b[0m t0 \u001b[38;5;241m=\u001b[39m \u001b[38;5;241m0.1\u001b[39m\n\u001b[1;32m----> 2\u001b[0m newstart \u001b[38;5;241m=\u001b[39m \u001b[43mlam_stiff_fun\u001b[49m(t0)\n\u001b[0;32m      3\u001b[0m \u001b[38;5;28mprint\u001b[39m(newstart)\n",
      "\u001b[1;31mNameError\u001b[0m: name 'lam_stiff_fun' is not defined"
     ]
    }
   ],
   "source": [
    "t0 = 0.1\n",
    "newstart = lam_stiff_fun(t0)\n",
    "print(newstart)\n"
   ]
  },
  {
   "cell_type": "code",
   "execution_count": 23,
   "id": "651de945",
   "metadata": {},
   "outputs": [
    {
     "ename": "NameError",
     "evalue": "name 'zeros' is not defined",
     "output_type": "error",
     "traceback": [
      "\u001b[1;31m---------------------------------------------------------------------------\u001b[0m",
      "\u001b[1;31mNameError\u001b[0m                                 Traceback (most recent call last)",
      "Cell \u001b[1;32mIn[23], line 4\u001b[0m\n\u001b[0;32m      1\u001b[0m n \u001b[38;5;241m=\u001b[39m \u001b[38;5;241m49\u001b[39m\n\u001b[0;32m      2\u001b[0m tau \u001b[38;5;241m=\u001b[39m TEnd\u001b[38;5;241m/\u001b[39mn\n\u001b[1;32m----> 4\u001b[0m pp \u001b[38;5;241m=\u001b[39m \u001b[43mzeros\u001b[49m(n\u001b[38;5;241m+\u001b[39m\u001b[38;5;241m1\u001b[39m)\n\u001b[0;32m      5\u001b[0m pp[\u001b[38;5;241m0\u001b[39m] \u001b[38;5;241m=\u001b[39m newstart\n\u001b[0;32m      7\u001b[0m \u001b[38;5;28;01mfor\u001b[39;00m k \u001b[38;5;129;01min\u001b[39;00m \u001b[38;5;28mrange\u001b[39m(\u001b[38;5;241m0\u001b[39m,n):\n",
      "\u001b[1;31mNameError\u001b[0m: name 'zeros' is not defined"
     ]
    }
   ],
   "source": [
    "n = 49\n",
    "tau = TEnd/n\n",
    "\n",
    "pp = zeros(n+1)\n",
    "pp[0] = newstart\n",
    "\n",
    "for k in range(0,n):\n",
    "    tk = t0 + tau*k\n",
    "    k1 = f(tk, pp[k])\n",
    "    k2 = f(tk+p1*tau,pp[k]+q11*k1*tau)\n",
    "    pp[k+1] = pp[k] + (a1*k1+a2*k2)*tau\n",
    "    \n",
    "print(pp)\n"
   ]
  },
  {
   "cell_type": "code",
   "execution_count": 24,
   "id": "eb7df3ae",
   "metadata": {},
   "outputs": [
    {
     "ename": "NameError",
     "evalue": "name 'axstiff' is not defined",
     "output_type": "error",
     "traceback": [
      "\u001b[1;31m---------------------------------------------------------------------------\u001b[0m",
      "\u001b[1;31mNameError\u001b[0m                                 Traceback (most recent call last)",
      "Cell \u001b[1;32mIn[24], line 2\u001b[0m\n\u001b[0;32m      1\u001b[0m tp \u001b[38;5;241m=\u001b[39m [t0\u001b[38;5;241m+\u001b[39m(k\u001b[38;5;241m-\u001b[39m\u001b[38;5;241m1\u001b[39m)\u001b[38;5;241m*\u001b[39mtau \u001b[38;5;28;01mfor\u001b[39;00m k \u001b[38;5;129;01min\u001b[39;00m \u001b[38;5;28mrange\u001b[39m(\u001b[38;5;241m1\u001b[39m,n\u001b[38;5;241m+\u001b[39m\u001b[38;5;241m2\u001b[39m)]\n\u001b[1;32m----> 2\u001b[0m \u001b[43maxstiff\u001b[49m\u001b[38;5;241m.\u001b[39mplot(tp,pp,lw\u001b[38;5;241m=\u001b[39m\u001b[38;5;241m2\u001b[39m,c\u001b[38;5;241m=\u001b[39m\u001b[38;5;124m'\u001b[39m\u001b[38;5;124mc\u001b[39m\u001b[38;5;124m'\u001b[39m)\n\u001b[0;32m      3\u001b[0m fstiff\u001b[38;5;241m.\u001b[39mshow()\n",
      "\u001b[1;31mNameError\u001b[0m: name 'axstiff' is not defined"
     ]
    }
   ],
   "source": [
    "tp = [t0+(k-1)*tau for k in range(1,n+2)]\n",
    "axstiff.plot(tp,pp,lw=2,c='c')\n",
    "fstiff.show()\n"
   ]
  },
  {
   "cell_type": "code",
   "execution_count": null,
   "id": "f499e6d2",
   "metadata": {},
   "outputs": [],
   "source": []
  }
 ],
 "metadata": {
  "kernelspec": {
   "display_name": "Python 3 (ipykernel)",
   "language": "python",
   "name": "python3"
  },
  "language_info": {
   "codemirror_mode": {
    "name": "ipython",
    "version": 3
   },
   "file_extension": ".py",
   "mimetype": "text/x-python",
   "name": "python",
   "nbconvert_exporter": "python",
   "pygments_lexer": "ipython3",
   "version": "3.11.1"
  }
 },
 "nbformat": 4,
 "nbformat_minor": 5
}
