{
 "cells": [
  {
   "cell_type": "code",
   "execution_count": 1,
   "id": "fbdebb5b",
   "metadata": {},
   "outputs": [
    {
     "ename": "ModuleNotFoundError",
     "evalue": "No module named 'numpy'",
     "output_type": "error",
     "traceback": [
      "\u001b[1;31m---------------------------------------------------------------------------\u001b[0m",
      "\u001b[1;31mModuleNotFoundError\u001b[0m                       Traceback (most recent call last)",
      "Cell \u001b[1;32mIn[1], line 1\u001b[0m\n\u001b[1;32m----> 1\u001b[0m \u001b[38;5;28;01mimport\u001b[39;00m \u001b[38;5;21;01mnumpy\u001b[39;00m \u001b[38;5;28;01mas\u001b[39;00m \u001b[38;5;21;01mnp\u001b[39;00m\n\u001b[0;32m      2\u001b[0m \u001b[38;5;28;01mimport\u001b[39;00m \u001b[38;5;21;01mmatplotlib\u001b[39;00m\u001b[38;5;21;01m.\u001b[39;00m\u001b[38;5;21;01mpyplot\u001b[39;00m \u001b[38;5;28;01mas\u001b[39;00m \u001b[38;5;21;01mplt\u001b[39;00m\n",
      "\u001b[1;31mModuleNotFoundError\u001b[0m: No module named 'numpy'"
     ]
    }
   ],
   "source": [
    "import numpy as np\n",
    "import matplotlib.pyplot as plt"
   ]
  },
  {
   "cell_type": "code",
   "execution_count": 2,
   "id": "c54f5948",
   "metadata": {},
   "outputs": [
    {
     "ename": "NameError",
     "evalue": "name 'np' is not defined",
     "output_type": "error",
     "traceback": [
      "\u001b[1;31m---------------------------------------------------------------------------\u001b[0m",
      "\u001b[1;31mNameError\u001b[0m                                 Traceback (most recent call last)",
      "Cell \u001b[1;32mIn[2], line 1\u001b[0m\n\u001b[1;32m----> 1\u001b[0m init_condition \u001b[38;5;241m=\u001b[39m \u001b[43mnp\u001b[49m\u001b[38;5;241m.\u001b[39marray([\u001b[38;5;241m0\u001b[39m, \u001b[38;5;241m0.1\u001b[39m])\n\u001b[0;32m      3\u001b[0m \u001b[38;5;28;01mdef\u001b[39;00m \u001b[38;5;21manalytical_solution\u001b[39m(init_condition, dt\u001b[38;5;241m=\u001b[39m\u001b[38;5;241m0.1\u001b[39m, time_steps\u001b[38;5;241m=\u001b[39m\u001b[38;5;241m100\u001b[39m, g\u001b[38;5;241m=\u001b[39m\u001b[38;5;241m9.81\u001b[39m, r\u001b[38;5;241m=\u001b[39m\u001b[38;5;241m1\u001b[39m):\n\u001b[0;32m      4\u001b[0m     output \u001b[38;5;241m=\u001b[39m []\n",
      "\u001b[1;31mNameError\u001b[0m: name 'np' is not defined"
     ]
    }
   ],
   "source": [
    "init_condition = np.array([0, 0.1])\n",
    "\n",
    "def analytical_solution(init_condition, dt=0.1, time_steps=100, g=9.81, r=1):\n",
    "    output = []\n",
    "    output.append(init_condition)\n",
    "    for i in range(1, time_steps+1):\n",
    "        t = dt * i\n",
    "        theta = init_condition[0] + (init_condition[1] * np.sin(np.sqrt(g/r) * t)/ (np.sqrt(g*r)))\n",
    "        velocity = init_condition[1] * np.cos(np.sqrt(g/r) * t)\n",
    "        output.append(np.array([theta, velocity]))\n",
    "    return output\n",
    "\n",
    "def extract_result(output):\n",
    "    theta = np.zeros(len(output), dtype=float)\n",
    "    velocity = np.zeros(len(output), dtype=float)\n",
    "    for i in range(len(output)):\n",
    "        theta[i] = output[i][0]\n",
    "        velocity[i] = output[i][1]\n",
    "    return theta, velocity\n",
    "\n",
    "output_analytical = analytical_solution(init_condition)\n",
    "theta_analytical, velocity_analytical = extract_result(output_analytical)\n",
    "plt.plot(theta_analytical, velocity_analytical, label='analytical')\n",
    "plt.legend(loc='upper right')\n",
    "plt.xlabel('Angle Theta')\n",
    "plt.ylabel('Tangential velocity')\n",
    "plt.show()\n"
   ]
  },
  {
   "cell_type": "code",
   "execution_count": 3,
   "id": "c3f56825",
   "metadata": {},
   "outputs": [
    {
     "ename": "NameError",
     "evalue": "name 'np' is not defined",
     "output_type": "error",
     "traceback": [
      "\u001b[1;31m---------------------------------------------------------------------------\u001b[0m",
      "\u001b[1;31mNameError\u001b[0m                                 Traceback (most recent call last)",
      "Cell \u001b[1;32mIn[3], line 1\u001b[0m\n\u001b[1;32m----> 1\u001b[0m A \u001b[38;5;241m=\u001b[39m \u001b[43mnp\u001b[49m\u001b[38;5;241m.\u001b[39marray([[\u001b[38;5;241m0.\u001b[39m, \u001b[38;5;241m1.\u001b[39m], [\u001b[38;5;241m-\u001b[39m\u001b[38;5;241m9.81\u001b[39m, \u001b[38;5;241m0.\u001b[39m]])\n",
      "\u001b[1;31mNameError\u001b[0m: name 'np' is not defined"
     ]
    }
   ],
   "source": [
    "A = np.array([[0., 1.], [-9.81, 0.]])"
   ]
  },
  {
   "cell_type": "code",
   "execution_count": 4,
   "id": "ed2d8166",
   "metadata": {},
   "outputs": [],
   "source": [
    "# %load solution_task2_explEuler.py\n",
    "def explicit_euler(A, init_condition, time_steps=1, dt=0.1):\n",
    "    output = []\n",
    "    I = np.eye(A.shape[0])\n",
    "    output.append(init_condition)\n",
    "    # TODO: implement the explicit euler method\n",
    "    # In each time step, the new solution for the position should be appended to output.\n",
    "    ##########################TODO BEGINS##########################\n",
    "\n",
    "    \n",
    "    ##########################TODO ENDS##########################\n",
    "    return output"
   ]
  },
  {
   "cell_type": "code",
   "execution_count": 5,
   "id": "ee825466",
   "metadata": {},
   "outputs": [],
   "source": [
    "# %load solution_task3_implEuler.py\n",
    "def implicit_euler(A, init_condition, time_steps=1, dt=0.1):\n",
    "    output = []\n",
    "    I = np.eye(A.shape[0])\n",
    "    output.append(init_condition)\n",
    "    # TODO: implement the implicit euler method\n",
    "    # In each time step, the new solution for the position should be appended to output.\n",
    "    ##########################TODO BEGINS##########################\n",
    "\n",
    "    \n",
    "    ##########################TODO ENDS##########################\n",
    "    return output\n"
   ]
  },
  {
   "cell_type": "code",
   "execution_count": 6,
   "id": "d6881099",
   "metadata": {},
   "outputs": [
    {
     "ename": "NameError",
     "evalue": "name 'A' is not defined",
     "output_type": "error",
     "traceback": [
      "\u001b[1;31m---------------------------------------------------------------------------\u001b[0m",
      "\u001b[1;31mNameError\u001b[0m                                 Traceback (most recent call last)",
      "Cell \u001b[1;32mIn[6], line 1\u001b[0m\n\u001b[1;32m----> 1\u001b[0m output_explicit \u001b[38;5;241m=\u001b[39m explicit_euler(\u001b[43mA\u001b[49m, init_condition, time_steps\u001b[38;5;241m=\u001b[39m\u001b[38;5;241m1000\u001b[39m, dt\u001b[38;5;241m=\u001b[39m\u001b[38;5;241m.01\u001b[39m)\n\u001b[0;32m      2\u001b[0m output_implicit \u001b[38;5;241m=\u001b[39m implicit_euler(A, init_condition, time_steps\u001b[38;5;241m=\u001b[39m\u001b[38;5;241m1000\u001b[39m, dt\u001b[38;5;241m=\u001b[39m\u001b[38;5;241m.01\u001b[39m)\n\u001b[0;32m      4\u001b[0m \u001b[38;5;28;01mdef\u001b[39;00m \u001b[38;5;21mextract_result\u001b[39m(output):\n",
      "\u001b[1;31mNameError\u001b[0m: name 'A' is not defined"
     ]
    }
   ],
   "source": [
    "output_explicit = explicit_euler(A, init_condition, time_steps=1000, dt=.01)\n",
    "output_implicit = implicit_euler(A, init_condition, time_steps=1000, dt=.01)\n",
    "\n",
    "def extract_result(output):\n",
    "    theta = np.zeros(len(output), dtype=float)\n",
    "    velocity = np.zeros(len(output), dtype=float)\n",
    "    for i in range(len(output)):\n",
    "        theta[i] = output[i][0]\n",
    "        velocity[i] = output[i][1]\n",
    "    return theta, velocity\n",
    "\n",
    "theta_explicit, velocity_explicit = extract_result(output_explicit)\n",
    "theta_implicit, velocity_implicit = extract_result(output_implicit)\n",
    "theta_analytical, velocity_analytical = extract_result(output_analytical)\n",
    "plt.plot(theta_analytical, velocity_analytical, label='analytical')\n",
    "plt.plot(theta_explicit, velocity_explicit, label='explicit')\n",
    "plt.plot(theta_implicit, velocity_implicit, label='implicit')\n",
    "plt.xlabel('Angle Theta')\n",
    "plt.ylabel('Tangential velocity')\n",
    "plt.legend(loc='upper right')\n",
    "plt.show()"
   ]
  },
  {
   "cell_type": "code",
   "execution_count": 7,
   "id": "013bc87c",
   "metadata": {},
   "outputs": [],
   "source": [
    "# %load solution_task4_strVerl.py\n",
    "def stormer_verlet(init_condition, time_steps=10, dt=.1, g=9.81, r=1):\n",
    "    output = []\n",
    "    output.append(init_condition)\n",
    "    # TODO: implement the Velocity Störmer Verlet method\n",
    "    # In each time step, the new solution for the position and velocity should be appended to output.\n",
    "    ##########################TODO BEGINS##########################\n",
    "\n",
    "    \n",
    "    ##########################TODO ENDS##########################\n",
    "    return output\n",
    "\n"
   ]
  },
  {
   "cell_type": "code",
   "execution_count": 8,
   "id": "f9b729c4",
   "metadata": {},
   "outputs": [
    {
     "ename": "NameError",
     "evalue": "name 'init_condition' is not defined",
     "output_type": "error",
     "traceback": [
      "\u001b[1;31m---------------------------------------------------------------------------\u001b[0m",
      "\u001b[1;31mNameError\u001b[0m                                 Traceback (most recent call last)",
      "Cell \u001b[1;32mIn[8], line 1\u001b[0m\n\u001b[1;32m----> 1\u001b[0m output_stormer \u001b[38;5;241m=\u001b[39m stormer_verlet(\u001b[43minit_condition\u001b[49m, time_steps\u001b[38;5;241m=\u001b[39m\u001b[38;5;241m200\u001b[39m, dt\u001b[38;5;241m=\u001b[39m\u001b[38;5;241m.01\u001b[39m)\n\u001b[0;32m      3\u001b[0m theta_explicit, velocity_explicit \u001b[38;5;241m=\u001b[39m extract_result(output_explicit)\n\u001b[0;32m      4\u001b[0m output_analytical \u001b[38;5;241m=\u001b[39m analytical_solution(init_condition)\n",
      "\u001b[1;31mNameError\u001b[0m: name 'init_condition' is not defined"
     ]
    }
   ],
   "source": [
    "output_stormer = stormer_verlet(init_condition, time_steps=200, dt=.01)\n",
    "\n",
    "theta_explicit, velocity_explicit = extract_result(output_explicit)\n",
    "output_analytical = analytical_solution(init_condition)\n",
    "theta_analytical, velocity_analytical = extract_result(output_analytical)\n",
    "plt.plot(theta_analytical, velocity_analytical, label='analytical')\n",
    "# theta_implicit, velocity_implicit = extract_result(output_implicit)\n",
    "theta_stormer, velocity_stormer = extract_result(output_stormer)\n",
    "# plt.plot(theta_explicit, velocity_explicit, label='explicit')\n",
    "# plt.plot(theta_implicit, velocity_implicit, label='implicit')\n",
    "plt.plot(theta_stormer, velocity_stormer, label='stormer verlet')\n",
    "plt.legend(loc='upper right')\n",
    "plt.xlabel('Angle Theta')\n",
    "plt.ylabel('Tangential velocity')\n",
    "plt.show()"
   ]
  },
  {
   "cell_type": "code",
   "execution_count": null,
   "id": "3999d5a0",
   "metadata": {},
   "outputs": [],
   "source": []
  },
  {
   "cell_type": "code",
   "execution_count": null,
   "id": "ea95c027",
   "metadata": {},
   "outputs": [],
   "source": []
  }
 ],
 "metadata": {
  "kernelspec": {
   "display_name": "Python 3 (ipykernel)",
   "language": "python",
   "name": "python3"
  },
  "language_info": {
   "codemirror_mode": {
    "name": "ipython",
    "version": 3
   },
   "file_extension": ".py",
   "mimetype": "text/x-python",
   "name": "python",
   "nbconvert_exporter": "python",
   "pygments_lexer": "ipython3",
   "version": "3.11.1"
  }
 },
 "nbformat": 4,
 "nbformat_minor": 5
}
