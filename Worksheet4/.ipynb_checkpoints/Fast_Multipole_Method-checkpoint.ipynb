{
 "cells": [
  {
   "cell_type": "code",
   "execution_count": 1,
   "id": "b1ec9cfd",
   "metadata": {},
   "outputs": [
    {
     "ename": "ModuleNotFoundError",
     "evalue": "No module named 'numpy'",
     "output_type": "error",
     "traceback": [
      "\u001b[1;31m---------------------------------------------------------------------------\u001b[0m",
      "\u001b[1;31mModuleNotFoundError\u001b[0m                       Traceback (most recent call last)",
      "Cell \u001b[1;32mIn[1], line 1\u001b[0m\n\u001b[1;32m----> 1\u001b[0m \u001b[38;5;28;01mimport\u001b[39;00m \u001b[38;5;21;01mnumpy\u001b[39;00m \u001b[38;5;28;01mas\u001b[39;00m \u001b[38;5;21;01mnp\u001b[39;00m\n\u001b[0;32m      2\u001b[0m \u001b[38;5;28;01mimport\u001b[39;00m \u001b[38;5;21;01mutils\u001b[39;00m            \u001b[38;5;66;03m# see utils.py\u001b[39;00m\n\u001b[0;32m      3\u001b[0m \u001b[38;5;28;01mimport\u001b[39;00m \u001b[38;5;21;01mcell\u001b[39;00m             \u001b[38;5;66;03m# see cell.py\u001b[39;00m\n",
      "\u001b[1;31mModuleNotFoundError\u001b[0m: No module named 'numpy'"
     ]
    }
   ],
   "source": [
    "import numpy as np\n",
    "import utils            # see utils.py\n",
    "import cell             # see cell.py\n",
    "import particle as pr   # see particle.py\n",
    "import matplotlib.pyplot as plt\n",
    "from matplotlib import rcParams, patches\n",
    "import math"
   ]
  },
  {
   "cell_type": "code",
   "execution_count": 2,
   "id": "1d13a79c",
   "metadata": {},
   "outputs": [
    {
     "ename": "NameError",
     "evalue": "name 'cell' is not defined",
     "output_type": "error",
     "traceback": [
      "\u001b[1;31m---------------------------------------------------------------------------\u001b[0m",
      "\u001b[1;31mNameError\u001b[0m                                 Traceback (most recent call last)",
      "Cell \u001b[1;32mIn[2], line 2\u001b[0m\n\u001b[0;32m      1\u001b[0m \u001b[38;5;66;03m# create a cell with center (0.5, 0.5) and side length 1\u001b[39;00m\n\u001b[1;32m----> 2\u001b[0m cell1 \u001b[38;5;241m=\u001b[39m \u001b[43mcell\u001b[49m\u001b[38;5;241m.\u001b[39mCell(\u001b[38;5;241m100\u001b[39m, M\u001b[38;5;241m=\u001b[39m\u001b[38;5;241m10\u001b[39m, center\u001b[38;5;241m=\u001b[39m[\u001b[38;5;241m0.5\u001b[39m,\u001b[38;5;241m0.5\u001b[39m])\n\u001b[0;32m      3\u001b[0m list_cells \u001b[38;5;241m=\u001b[39m [cell1]\n\u001b[0;32m      5\u001b[0m \u001b[38;5;66;03m# create particles\u001b[39;00m\n",
      "\u001b[1;31mNameError\u001b[0m: name 'cell' is not defined"
     ]
    }
   ],
   "source": [
    "# create a cell with center (0.5, 0.5) and side length 1\n",
    "cell1 = cell.Cell(100, M=10, center=[0.5,0.5])\n",
    "list_cells = [cell1]\n",
    "\n",
    "# create particles\n",
    "num_particles = 50\n",
    "list_particles = []\n",
    "domain = 1\n",
    "for i in range(num_particles):\n",
    "    list_particles.append(pr.Particle(domain=domain))\n",
    "\n",
    "# Assign particles to cell\n",
    "cell1.particle_index = np.arange(num_particles, dtype=int)\n",
    "cell1.nparticles = num_particles\n",
    "\n",
    "# We want to calculate the potential at following radial coordinate (r, theta)\n",
    "r = 4.8\n",
    "theta = np.pi/48\n",
    "# convert radial coordiante to cardinal coordinate \n",
    "# (we do this so that we can compare the FMM to the direct summation)\n",
    "target_coordinate = [cell1.x + r*np.cos(theta), cell1.y + r*np.sin(theta)]\n"
   ]
  },
  {
   "cell_type": "code",
   "execution_count": 3,
   "id": "375dcdfb",
   "metadata": {},
   "outputs": [
    {
     "ename": "NameError",
     "evalue": "name 'plt' is not defined",
     "output_type": "error",
     "traceback": [
      "\u001b[1;31m---------------------------------------------------------------------------\u001b[0m",
      "\u001b[1;31mNameError\u001b[0m                                 Traceback (most recent call last)",
      "Cell \u001b[1;32mIn[3], line 1\u001b[0m\n\u001b[1;32m----> 1\u001b[0m ax \u001b[38;5;241m=\u001b[39m \u001b[43mplt\u001b[49m\u001b[38;5;241m.\u001b[39mgca()\n\u001b[0;32m      2\u001b[0m cell1\u001b[38;5;241m.\u001b[39mplot_cell_and_ring(ax)\n\u001b[0;32m      3\u001b[0m plt\u001b[38;5;241m.\u001b[39mplot(target_coordinate[\u001b[38;5;241m0\u001b[39m], target_coordinate[\u001b[38;5;241m1\u001b[39m], marker\u001b[38;5;241m=\u001b[39m\u001b[38;5;124m'\u001b[39m\u001b[38;5;124m*\u001b[39m\u001b[38;5;124m'\u001b[39m, color\u001b[38;5;241m=\u001b[39m\u001b[38;5;124m'\u001b[39m\u001b[38;5;124mg\u001b[39m\u001b[38;5;124m'\u001b[39m)\n",
      "\u001b[1;31mNameError\u001b[0m: name 'plt' is not defined"
     ]
    }
   ],
   "source": [
    "ax = plt.gca()\n",
    "cell1.plot_cell_and_ring(ax)\n",
    "plt.plot(target_coordinate[0], target_coordinate[1], marker='*', color='g')\n",
    "plt.arrow(cell1.x, cell1.y, r*np.cos(theta), r*np.sin(theta),length_includes_head=True,\n",
    "          head_width=0.1, head_length=0.2)\n",
    "for p in list_particles:\n",
    "    p.plot()\n",
    "ax.set_aspect('equal', adjustable='box')\n",
    "plt.show()"
   ]
  },
  {
   "cell_type": "code",
   "execution_count": 4,
   "id": "d2aabc65",
   "metadata": {},
   "outputs": [
    {
     "ename": "NameError",
     "evalue": "name 'utils' is not defined",
     "output_type": "error",
     "traceback": [
      "\u001b[1;31m---------------------------------------------------------------------------\u001b[0m",
      "\u001b[1;31mNameError\u001b[0m                                 Traceback (most recent call last)",
      "Cell \u001b[1;32mIn[4], line 1\u001b[0m\n\u001b[1;32m----> 1\u001b[0m direct_potential \u001b[38;5;241m=\u001b[39m \u001b[43mutils\u001b[49m\u001b[38;5;241m.\u001b[39mdirect_outside_potential(target_coordinate, list_particles)\n",
      "\u001b[1;31mNameError\u001b[0m: name 'utils' is not defined"
     ]
    }
   ],
   "source": [
    "direct_potential = utils.direct_outside_potential(target_coordinate, list_particles)\n"
   ]
  },
  {
   "cell_type": "code",
   "execution_count": 5,
   "id": "070c5127",
   "metadata": {},
   "outputs": [
    {
     "ename": "NameError",
     "evalue": "name 'cell1' is not defined",
     "output_type": "error",
     "traceback": [
      "\u001b[1;31m---------------------------------------------------------------------------\u001b[0m",
      "\u001b[1;31mNameError\u001b[0m                                 Traceback (most recent call last)",
      "Cell \u001b[1;32mIn[5], line 2\u001b[0m\n\u001b[0;32m      1\u001b[0m \u001b[38;5;66;03m# Calculate the term marked as kappa in outer ring expansion term\u001b[39;00m\n\u001b[1;32m----> 2\u001b[0m \u001b[43mcell1\u001b[49m\u001b[38;5;241m.\u001b[39meval_total_mass(list_cells, list_particles)\n\u001b[0;32m      3\u001b[0m \u001b[38;5;66;03m# Calculate the potential at the quadrature points(on ring) using direct nainve implementation\u001b[39;00m\n\u001b[0;32m      4\u001b[0m \u001b[38;5;66;03m# Look in the file cell.py for implementation\u001b[39;00m\n\u001b[0;32m      5\u001b[0m cell1\u001b[38;5;241m.\u001b[39mcalculate_outer_ring_terms_leaf(list_particles)\n",
      "\u001b[1;31mNameError\u001b[0m: name 'cell1' is not defined"
     ]
    }
   ],
   "source": [
    "# Calculate the term marked as kappa in outer ring expansion term\n",
    "cell1.eval_total_mass(list_cells, list_particles)\n",
    "# Calculate the potential at the quadrature points(on ring) using direct nainve implementation\n",
    "# Look in the file cell.py for implementation\n",
    "cell1.calculate_outer_ring_terms_leaf(list_particles)"
   ]
  },
  {
   "cell_type": "code",
   "execution_count": 6,
   "id": "9b1a191b",
   "metadata": {},
   "outputs": [],
   "source": [
    "# %load solution_task1_outerRing.py\n",
    "def outer_ring_expansion(cell, r, theta):\n",
    "    assert cell.kappa is not None, \"Runtime Error: Total mass of individual cell is not yet calculated!\"\n",
    "    ################# Task 1 begins #########################\n",
    "\n",
    "    \n",
    "    \n",
    "    ################## Task 1 begins ########################\n",
    "    return potential"
   ]
  },
  {
   "cell_type": "code",
   "execution_count": 7,
   "id": "e4ff84f7",
   "metadata": {},
   "outputs": [
    {
     "ename": "NameError",
     "evalue": "name 'cell1' is not defined",
     "output_type": "error",
     "traceback": [
      "\u001b[1;31m---------------------------------------------------------------------------\u001b[0m",
      "\u001b[1;31mNameError\u001b[0m                                 Traceback (most recent call last)",
      "Cell \u001b[1;32mIn[7], line 2\u001b[0m\n\u001b[0;32m      1\u001b[0m \u001b[38;5;66;03m# Calculate potential using outer ring expansion\u001b[39;00m\n\u001b[1;32m----> 2\u001b[0m outer_ring_potential \u001b[38;5;241m=\u001b[39m outer_ring_expansion(\u001b[43mcell1\u001b[49m, r, theta)\n\u001b[0;32m      4\u001b[0m \u001b[38;5;66;03m# Compare results\u001b[39;00m\n\u001b[0;32m      5\u001b[0m \u001b[38;5;28mprint\u001b[39m(\u001b[38;5;124m\"\u001b[39m\u001b[38;5;124mDirect Potential\u001b[39m\u001b[38;5;124m\"\u001b[39m, direct_potential)\n",
      "\u001b[1;31mNameError\u001b[0m: name 'cell1' is not defined"
     ]
    }
   ],
   "source": [
    "# Calculate potential using outer ring expansion\n",
    "outer_ring_potential = outer_ring_expansion(cell1, r, theta)\n",
    "\n",
    "# Compare results\n",
    "print(\"Direct Potential\", direct_potential)\n",
    "print(\"Outer Ring potential\", outer_ring_potential)\n",
    "print(\"Difference\", np.abs(outer_ring_potential - direct_potential))"
   ]
  },
  {
   "cell_type": "code",
   "execution_count": 8,
   "id": "299631bf",
   "metadata": {},
   "outputs": [
    {
     "ename": "NameError",
     "evalue": "name 'cell' is not defined",
     "output_type": "error",
     "traceback": [
      "\u001b[1;31m---------------------------------------------------------------------------\u001b[0m",
      "\u001b[1;31mNameError\u001b[0m                                 Traceback (most recent call last)",
      "Cell \u001b[1;32mIn[8], line 3\u001b[0m\n\u001b[0;32m      1\u001b[0m \u001b[38;5;66;03m# Create the cell at (5, 0.5)\u001b[39;00m\n\u001b[0;32m      2\u001b[0m local_center \u001b[38;5;241m=\u001b[39m [\u001b[38;5;241m5\u001b[39m,\u001b[38;5;241m0.5\u001b[39m]\n\u001b[1;32m----> 3\u001b[0m cell6 \u001b[38;5;241m=\u001b[39m \u001b[43mcell\u001b[49m\u001b[38;5;241m.\u001b[39mCell(\u001b[38;5;241m100\u001b[39m, M\u001b[38;5;241m=\u001b[39m\u001b[38;5;241m10\u001b[39m, center\u001b[38;5;241m=\u001b[39mlocal_center, side_length\u001b[38;5;241m=\u001b[39m\u001b[38;5;241m1\u001b[39m)\n\u001b[0;32m      5\u001b[0m \u001b[38;5;66;03m# Visualize the problem statement\u001b[39;00m\n\u001b[0;32m      6\u001b[0m ax \u001b[38;5;241m=\u001b[39m plt\u001b[38;5;241m.\u001b[39mgca()\n",
      "\u001b[1;31mNameError\u001b[0m: name 'cell' is not defined"
     ]
    }
   ],
   "source": [
    "# Create the cell at (5, 0.5)\n",
    "local_center = [5,0.5]\n",
    "cell6 = cell.Cell(100, M=10, center=local_center, side_length=1)\n",
    "\n",
    "# Visualize the problem statement\n",
    "ax = plt.gca()\n",
    "cell1.plot_cell_and_ring(ax)\n",
    "cell6.plot_cell_and_ring(ax)\n",
    "plt.plot(target_coordinate[0], target_coordinate[1], marker='*', color='g')\n",
    "# plt.arrow(cell1.x, cell1.y, r*np.cos(theta), r*np.sin(theta),length_includes_head=True,\n",
    "#           head_width=0.1, head_length=0.2)\n",
    "plt.arrow(cell6.x, cell6.y, target_coordinate[0] - cell6.x, target_coordinate[1] - cell6.y,\n",
    "          length_includes_head=True, head_width=0.1, head_length=0.2)\n",
    "for p in list_particles:\n",
    "    p.plot()\n",
    "ax.set_aspect('equal', adjustable='box')\n",
    "plt.show()"
   ]
  },
  {
   "cell_type": "code",
   "execution_count": 9,
   "id": "5590ac4c",
   "metadata": {},
   "outputs": [],
   "source": [
    "# %load solution_task1_innerRing.py\n",
    "def inner_ring_expansion(cell, r, theta):\n",
    "    ################ Task 2 begins #######################\n",
    "\n",
    "    \n",
    "    \n",
    "    ################ Task 2 ends ########################\n",
    "    return potential"
   ]
  },
  {
   "cell_type": "code",
   "execution_count": 10,
   "id": "5d550e8b",
   "metadata": {},
   "outputs": [
    {
     "ename": "NameError",
     "evalue": "name 'np' is not defined",
     "output_type": "error",
     "traceback": [
      "\u001b[1;31m---------------------------------------------------------------------------\u001b[0m",
      "\u001b[1;31mNameError\u001b[0m                                 Traceback (most recent call last)",
      "Cell \u001b[1;32mIn[10], line 1\u001b[0m\n\u001b[1;32m----> 1\u001b[0m cell6\u001b[38;5;241m.\u001b[39minner_ring_expansion_terms \u001b[38;5;241m=\u001b[39m \u001b[43mnp\u001b[49m\u001b[38;5;241m.\u001b[39mzeros(cell6\u001b[38;5;241m.\u001b[39mK, dtype\u001b[38;5;241m=\u001b[39m\u001b[38;5;28mfloat\u001b[39m)\n\u001b[0;32m      2\u001b[0m \u001b[38;5;28;01mfor\u001b[39;00m k \u001b[38;5;129;01min\u001b[39;00m \u001b[38;5;28mrange\u001b[39m(cell6\u001b[38;5;241m.\u001b[39mK):\n\u001b[0;32m      3\u001b[0m     cell6\u001b[38;5;241m.\u001b[39minner_ring_expansion_terms[k] \u001b[38;5;241m=\u001b[39m utils\u001b[38;5;241m.\u001b[39mdirect_outside_potential(cell6\u001b[38;5;241m.\u001b[39mquad_points[k], list_particles)\n",
      "\u001b[1;31mNameError\u001b[0m: name 'np' is not defined"
     ]
    }
   ],
   "source": [
    "cell6.inner_ring_expansion_terms = np.zeros(cell6.K, dtype=float)\n",
    "for k in range(cell6.K):\n",
    "    cell6.inner_ring_expansion_terms[k] = utils.direct_outside_potential(cell6.quad_points[k], list_particles)"
   ]
  },
  {
   "cell_type": "code",
   "execution_count": 11,
   "id": "8160f008",
   "metadata": {},
   "outputs": [
    {
     "ename": "NameError",
     "evalue": "name 'target_coordinate' is not defined",
     "output_type": "error",
     "traceback": [
      "\u001b[1;31m---------------------------------------------------------------------------\u001b[0m",
      "\u001b[1;31mNameError\u001b[0m                                 Traceback (most recent call last)",
      "Cell \u001b[1;32mIn[11], line 2\u001b[0m\n\u001b[0;32m      1\u001b[0m \u001b[38;5;66;03m# Calculate the radial coordinates with respect to the center of the box\u001b[39;00m\n\u001b[1;32m----> 2\u001b[0m dx, dy \u001b[38;5;241m=\u001b[39m \u001b[43mtarget_coordinate\u001b[49m[\u001b[38;5;241m0\u001b[39m] \u001b[38;5;241m-\u001b[39m local_center[\u001b[38;5;241m0\u001b[39m], target_coordinate[\u001b[38;5;241m1\u001b[39m] \u001b[38;5;241m-\u001b[39m local_center[\u001b[38;5;241m1\u001b[39m]\n\u001b[0;32m      3\u001b[0m r_inner \u001b[38;5;241m=\u001b[39m np\u001b[38;5;241m.\u001b[39msqrt(dx\u001b[38;5;241m*\u001b[39m\u001b[38;5;241m*\u001b[39m\u001b[38;5;241m2\u001b[39m \u001b[38;5;241m+\u001b[39m dy\u001b[38;5;241m*\u001b[39m\u001b[38;5;241m*\u001b[39m\u001b[38;5;241m2\u001b[39m)\n\u001b[0;32m      4\u001b[0m theta_inner \u001b[38;5;241m=\u001b[39m math\u001b[38;5;241m.\u001b[39matan2(dy,dx)\n",
      "\u001b[1;31mNameError\u001b[0m: name 'target_coordinate' is not defined"
     ]
    }
   ],
   "source": [
    "# Calculate the radial coordinates with respect to the center of the box\n",
    "dx, dy = target_coordinate[0] - local_center[0], target_coordinate[1] - local_center[1]\n",
    "r_inner = np.sqrt(dx**2 + dy**2)\n",
    "theta_inner = math.atan2(dy,dx)\n",
    "\n",
    "# Calculate inner ring potential\n",
    "inner_ring_potential1 = inner_ring_expansion(cell6, r_inner, theta_inner)\n",
    "\n",
    "# Compare results\n",
    "print(\"Direct Potential\", direct_potential)\n",
    "print(\"Inner Ring potential\", inner_ring_potential1)\n",
    "print(\"Difference\", np.abs(inner_ring_potential1 - direct_potential))"
   ]
  },
  {
   "cell_type": "code",
   "execution_count": 12,
   "id": "38c037a8",
   "metadata": {},
   "outputs": [
    {
     "ename": "NameError",
     "evalue": "name 'np' is not defined",
     "output_type": "error",
     "traceback": [
      "\u001b[1;31m---------------------------------------------------------------------------\u001b[0m",
      "\u001b[1;31mNameError\u001b[0m                                 Traceback (most recent call last)",
      "Cell \u001b[1;32mIn[12], line 1\u001b[0m\n\u001b[1;32m----> 1\u001b[0m cell6\u001b[38;5;241m.\u001b[39minner_ring_expansion_terms \u001b[38;5;241m=\u001b[39m \u001b[43mnp\u001b[49m\u001b[38;5;241m.\u001b[39mzeros(cell6\u001b[38;5;241m.\u001b[39mK, dtype\u001b[38;5;241m=\u001b[39m\u001b[38;5;28mfloat\u001b[39m)\n\u001b[0;32m      2\u001b[0m \u001b[38;5;28;01mfor\u001b[39;00m k \u001b[38;5;129;01min\u001b[39;00m \u001b[38;5;28mrange\u001b[39m(cell6\u001b[38;5;241m.\u001b[39mK):\n\u001b[0;32m      3\u001b[0m     dx, dy \u001b[38;5;241m=\u001b[39m cell6\u001b[38;5;241m.\u001b[39mquad_points[k][\u001b[38;5;241m0\u001b[39m] \u001b[38;5;241m-\u001b[39m cell1\u001b[38;5;241m.\u001b[39mx, cell6\u001b[38;5;241m.\u001b[39mquad_points[k][\u001b[38;5;241m1\u001b[39m] \u001b[38;5;241m-\u001b[39m cell1\u001b[38;5;241m.\u001b[39my\n",
      "\u001b[1;31mNameError\u001b[0m: name 'np' is not defined"
     ]
    }
   ],
   "source": [
    "cell6.inner_ring_expansion_terms = np.zeros(cell6.K, dtype=float)\n",
    "for k in range(cell6.K):\n",
    "    dx, dy = cell6.quad_points[k][0] - cell1.x, cell6.quad_points[k][1] - cell1.y\n",
    "    r_inner = np.sqrt(dx**2 + dy**2)\n",
    "    theta_inner = np.arctan(dy/dx)\n",
    "    cell6.inner_ring_expansion_terms[k] = outer_ring_expansion(cell1, r_inner, theta_inner)"
   ]
  },
  {
   "cell_type": "code",
   "execution_count": 13,
   "id": "100deb03",
   "metadata": {},
   "outputs": [
    {
     "ename": "NameError",
     "evalue": "name 'target_coordinate' is not defined",
     "output_type": "error",
     "traceback": [
      "\u001b[1;31m---------------------------------------------------------------------------\u001b[0m",
      "\u001b[1;31mNameError\u001b[0m                                 Traceback (most recent call last)",
      "Cell \u001b[1;32mIn[13], line 2\u001b[0m\n\u001b[0;32m      1\u001b[0m \u001b[38;5;66;03m# Calculate the radial coordinates with respect to the center of the box\u001b[39;00m\n\u001b[1;32m----> 2\u001b[0m dx, dy \u001b[38;5;241m=\u001b[39m \u001b[43mtarget_coordinate\u001b[49m[\u001b[38;5;241m0\u001b[39m] \u001b[38;5;241m-\u001b[39m local_center[\u001b[38;5;241m0\u001b[39m], target_coordinate[\u001b[38;5;241m1\u001b[39m] \u001b[38;5;241m-\u001b[39m local_center[\u001b[38;5;241m1\u001b[39m]\n\u001b[0;32m      3\u001b[0m r_inner \u001b[38;5;241m=\u001b[39m np\u001b[38;5;241m.\u001b[39msqrt(dx\u001b[38;5;241m*\u001b[39m\u001b[38;5;241m*\u001b[39m\u001b[38;5;241m2\u001b[39m \u001b[38;5;241m+\u001b[39m dy\u001b[38;5;241m*\u001b[39m\u001b[38;5;241m*\u001b[39m\u001b[38;5;241m2\u001b[39m)\n\u001b[0;32m      4\u001b[0m theta_inner \u001b[38;5;241m=\u001b[39m math\u001b[38;5;241m.\u001b[39matan2(dy,dx)\n",
      "\u001b[1;31mNameError\u001b[0m: name 'target_coordinate' is not defined"
     ]
    }
   ],
   "source": [
    "# Calculate the radial coordinates with respect to the center of the box\n",
    "dx, dy = target_coordinate[0] - local_center[0], target_coordinate[1] - local_center[1]\n",
    "r_inner = np.sqrt(dx**2 + dy**2)\n",
    "theta_inner = math.atan2(dy,dx)\n",
    "\n",
    "# Calculate inner ring potential\n",
    "inner_ring_potential2 = inner_ring_expansion(cell6, r_inner, theta_inner)\n",
    "\n",
    "# Compare results\n",
    "print(\"Direct Potential\", direct_potential)\n",
    "print(\"Inner Ring potential\", inner_ring_potential2)\n",
    "print(\"Difference\", np.abs(inner_ring_potential2 - direct_potential))"
   ]
  },
  {
   "cell_type": "code",
   "execution_count": null,
   "id": "00094577",
   "metadata": {},
   "outputs": [],
   "source": []
  }
 ],
 "metadata": {
  "kernelspec": {
   "display_name": "Python 3 (ipykernel)",
   "language": "python",
   "name": "python3"
  },
  "language_info": {
   "codemirror_mode": {
    "name": "ipython",
    "version": 3
   },
   "file_extension": ".py",
   "mimetype": "text/x-python",
   "name": "python",
   "nbconvert_exporter": "python",
   "pygments_lexer": "ipython3",
   "version": "3.11.1"
  }
 },
 "nbformat": 4,
 "nbformat_minor": 5
}
