{
 "cells": [
  {
   "cell_type": "code",
   "execution_count": 1,
   "id": "f8b48cb5",
   "metadata": {},
   "outputs": [
    {
     "ename": "ModuleNotFoundError",
     "evalue": "No module named 'numpy'",
     "output_type": "error",
     "traceback": [
      "\u001b[1;31m---------------------------------------------------------------------------\u001b[0m",
      "\u001b[1;31mModuleNotFoundError\u001b[0m                       Traceback (most recent call last)",
      "Cell \u001b[1;32mIn[1], line 1\u001b[0m\n\u001b[1;32m----> 1\u001b[0m \u001b[38;5;28;01mimport\u001b[39;00m \u001b[38;5;21;01mnumpy\u001b[39;00m \u001b[38;5;28;01mas\u001b[39;00m \u001b[38;5;21;01mnp\u001b[39;00m\n\u001b[0;32m      2\u001b[0m \u001b[38;5;28;01mimport\u001b[39;00m \u001b[38;5;21;01mmatplotlib\u001b[39;00m\u001b[38;5;21;01m.\u001b[39;00m\u001b[38;5;21;01mpyplot\u001b[39;00m \u001b[38;5;28;01mas\u001b[39;00m \u001b[38;5;21;01mplt\u001b[39;00m\n\u001b[0;32m      3\u001b[0m \u001b[38;5;28;01mimport\u001b[39;00m \u001b[38;5;21;01mmatplotlib\u001b[39;00m\n",
      "\u001b[1;31mModuleNotFoundError\u001b[0m: No module named 'numpy'"
     ]
    }
   ],
   "source": [
    "import numpy as np\n",
    "import matplotlib.pyplot as plt\n",
    "import matplotlib\n",
    "import time\n",
    "\n",
    "# size of the domain in each dimension\n",
    "domain_size=1\n",
    "# number of particles\n",
    "N=200\n",
    "# cutoff\n",
    "r_c = 0.2\n",
    "# Verlet skin\n",
    "r_s = 0.01\n"
   ]
  },
  {
   "cell_type": "code",
   "execution_count": 2,
   "id": "e10b9681",
   "metadata": {},
   "outputs": [
    {
     "name": "stdout",
     "output_type": "stream",
     "text": [
      "Potential when distance is 0.01:   989999999.9999998\n",
      "Potential when distance is 0.4:   -0.15624975585937495\n"
     ]
    }
   ],
   "source": [
    "def lj_potential(distance, c1=1e-15, c2=1e-5):\n",
    "    return (c1 / distance**12) - (c2 / distance**6)\n",
    "\n",
    "print(\"Potential when distance is 0.01:  \", lj_potential(0.01))\n",
    "print(\"Potential when distance is 0.4:  \", lj_potential(0.2))"
   ]
  },
  {
   "cell_type": "code",
   "execution_count": null,
   "id": "b190e739",
   "metadata": {},
   "outputs": [],
   "source": []
  },
  {
   "cell_type": "code",
   "execution_count": 3,
   "id": "cee737ed",
   "metadata": {},
   "outputs": [
    {
     "ename": "NameError",
     "evalue": "name 'domain_size' is not defined",
     "output_type": "error",
     "traceback": [
      "\u001b[1;31m---------------------------------------------------------------------------\u001b[0m",
      "\u001b[1;31mNameError\u001b[0m                                 Traceback (most recent call last)",
      "Cell \u001b[1;32mIn[3], line 1\u001b[0m\n\u001b[1;32m----> 1\u001b[0m \u001b[38;5;28;43;01mclass\u001b[39;49;00m\u001b[43m \u001b[49m\u001b[38;5;21;43;01mParticle\u001b[39;49;00m\u001b[43m(\u001b[49m\u001b[43m)\u001b[49m\u001b[43m:\u001b[49m\n\u001b[0;32m      2\u001b[0m \u001b[38;5;250;43m    \u001b[39;49m\u001b[38;5;124;43;03m\"\"\"Particle represented as a point.\".\u001b[39;49;00m\n\u001b[0;32m      3\u001b[0m \u001b[38;5;124;43;03m    \u001b[39;49;00m\n\u001b[0;32m      4\u001b[0m \u001b[38;5;124;43;03m    Attributes:\u001b[39;49;00m\n\u001b[1;32m   (...)\u001b[0m\n\u001b[0;32m      7\u001b[0m \u001b[38;5;124;43;03m        phi: the gravitational potential of the particle.\u001b[39;49;00m\n\u001b[0;32m      8\u001b[0m \u001b[38;5;124;43;03m    \"\"\"\u001b[39;49;00m\n\u001b[0;32m     10\u001b[0m \u001b[43m    \u001b[49m\u001b[38;5;28;43;01mdef\u001b[39;49;00m\u001b[43m \u001b[49m\u001b[38;5;21;43m__init__\u001b[39;49m\u001b[43m(\u001b[49m\u001b[38;5;28;43mself\u001b[39;49m\u001b[43m,\u001b[49m\u001b[43m \u001b[49m\u001b[43mcoords\u001b[49m\u001b[38;5;241;43m=\u001b[39;49m\u001b[43m[\u001b[49m\u001b[43m]\u001b[49m\u001b[43m,\u001b[49m\u001b[43m \u001b[49m\u001b[43mdomain\u001b[49m\u001b[38;5;241;43m=\u001b[39;49m\u001b[43mdomain_size\u001b[49m\u001b[43m,\u001b[49m\u001b[43m \u001b[49m\u001b[43mm\u001b[49m\u001b[38;5;241;43m=\u001b[39;49m\u001b[38;5;241;43m1.0\u001b[39;49m\u001b[43m)\u001b[49m\u001b[43m:\u001b[49m\n\u001b[0;32m     11\u001b[0m \u001b[43m        \u001b[49m\u001b[38;5;66;43;03m# depending on the arguments either set the point to the given coordinates\u001b[39;49;00m\n\u001b[0;32m     12\u001b[0m \u001b[43m        \u001b[49m\u001b[38;5;66;43;03m# or generate random coordinates within the given domain.\u001b[39;49;00m\n",
      "Cell \u001b[1;32mIn[3], line 10\u001b[0m, in \u001b[0;36mParticle\u001b[1;34m()\u001b[0m\n\u001b[0;32m      1\u001b[0m \u001b[38;5;28;01mclass\u001b[39;00m \u001b[38;5;21;01mParticle\u001b[39;00m():\n\u001b[0;32m      2\u001b[0m \u001b[38;5;250m    \u001b[39m\u001b[38;5;124;03m\"\"\"Particle represented as a point.\".\u001b[39;00m\n\u001b[0;32m      3\u001b[0m \u001b[38;5;124;03m    \u001b[39;00m\n\u001b[0;32m      4\u001b[0m \u001b[38;5;124;03m    Attributes:\u001b[39;00m\n\u001b[1;32m   (...)\u001b[0m\n\u001b[0;32m      7\u001b[0m \u001b[38;5;124;03m        phi: the gravitational potential of the particle.\u001b[39;00m\n\u001b[0;32m      8\u001b[0m \u001b[38;5;124;03m    \"\"\"\u001b[39;00m\n\u001b[1;32m---> 10\u001b[0m     \u001b[38;5;28;01mdef\u001b[39;00m \u001b[38;5;21m__init__\u001b[39m(\u001b[38;5;28mself\u001b[39m, coords\u001b[38;5;241m=\u001b[39m[], domain\u001b[38;5;241m=\u001b[39m\u001b[43mdomain_size\u001b[49m, m\u001b[38;5;241m=\u001b[39m\u001b[38;5;241m1.0\u001b[39m):\n\u001b[0;32m     11\u001b[0m         \u001b[38;5;66;03m# depending on the arguments either set the point to the given coordinates\u001b[39;00m\n\u001b[0;32m     12\u001b[0m         \u001b[38;5;66;03m# or generate random coordinates within the given domain.\u001b[39;00m\n\u001b[0;32m     13\u001b[0m         \u001b[38;5;28;01mif\u001b[39;00m coords:\n\u001b[0;32m     14\u001b[0m             \u001b[38;5;28;01massert\u001b[39;00m \u001b[38;5;28mlen\u001b[39m(coords) \u001b[38;5;241m==\u001b[39m \u001b[38;5;241m2\u001b[39m, \u001b[38;5;124m\"\u001b[39m\u001b[38;5;124mwe expect 2D coords.\u001b[39m\u001b[38;5;124m\"\u001b[39m\n",
      "\u001b[1;31mNameError\u001b[0m: name 'domain_size' is not defined"
     ]
    }
   ],
   "source": [
    "class Particle():\n",
    "    \"\"\"Particle represented as a point.\".\n",
    "    \n",
    "    Attributes:\n",
    "        x, y: coordinates of the particle.\n",
    "        m: mass of the particle.\n",
    "        phi: the gravitational potential of the particle.\n",
    "    \"\"\"\n",
    "    \n",
    "    def __init__(self, coords=[], domain=domain_size, m=1.0):\n",
    "        # depending on the arguments either set the point to the given coordinates\n",
    "        # or generate random coordinates within the given domain.\n",
    "        if coords:\n",
    "            assert len(coords) == 2, \"we expect 2D coords.\"\n",
    "            self.x = coords[0]\n",
    "            self.y = coords[1]\n",
    "        else:\n",
    "            self.x = domain * np.random.random()\n",
    "            self.y = domain * np.random.random()\n",
    "        self.m = m\n",
    "        self.phi = 0.\n",
    "        self.verlet_list = []\n",
    "        \n",
    "        \n",
    "# Helper functions:\n",
    "def distance(a, b):\n",
    "    return np.sqrt((a.x-b.x)**2 + (a.y-b.y)**2)\n",
    "\n",
    "def plot_particles(particles, indices=[], marker='o', color='r', s=10, cmap='gist_rainbow' ):\n",
    "    if not indices:\n",
    "        indices = list(range(0,len(particles)))\n",
    "    allX = np.zeros(len(indices), dtype=float)\n",
    "    allY = np.zeros(len(indices), dtype=float)\n",
    "    for i, idx in enumerate(indices):\n",
    "        particle = list_particles[idx]\n",
    "        allX[i] = particle.x\n",
    "        allY[i] = particle.y\n",
    "    plt.scatter(allX, allY, marker=marker, c=color, s=s, cmap=cmap)\n",
    "    plt.xlim(left=0, right=domain_size)\n",
    "    plt.ylim(bottom=0, top=domain_size)"
   ]
  },
  {
   "cell_type": "code",
   "execution_count": null,
   "id": "4988f9bf",
   "metadata": {},
   "outputs": [],
   "source": []
  },
  {
   "cell_type": "code",
   "execution_count": 4,
   "id": "2590afc2",
   "metadata": {},
   "outputs": [
    {
     "ename": "NameError",
     "evalue": "name 'Particle' is not defined",
     "output_type": "error",
     "traceback": [
      "\u001b[1;31m---------------------------------------------------------------------------\u001b[0m",
      "\u001b[1;31mNameError\u001b[0m                                 Traceback (most recent call last)",
      "Cell \u001b[1;32mIn[4], line 4\u001b[0m\n\u001b[0;32m      2\u001b[0m list_particles \u001b[38;5;241m=\u001b[39m []\n\u001b[0;32m      3\u001b[0m \u001b[38;5;28;01mfor\u001b[39;00m i \u001b[38;5;129;01min\u001b[39;00m \u001b[38;5;28mrange\u001b[39m(N):\n\u001b[1;32m----> 4\u001b[0m     list_particles\u001b[38;5;241m.\u001b[39mappend(\u001b[43mParticle\u001b[49m())\n\u001b[0;32m      6\u001b[0m \u001b[38;5;66;03m# plotting\u001b[39;00m\n\u001b[0;32m      7\u001b[0m plot_particles(list_particles)\n",
      "\u001b[1;31mNameError\u001b[0m: name 'Particle' is not defined"
     ]
    }
   ],
   "source": [
    "N = 200\n",
    "list_particles = []\n",
    "for i in range(N):\n",
    "    list_particles.append(Particle())\n",
    "    \n",
    "# plotting\n",
    "plot_particles(list_particles)"
   ]
  },
  {
   "cell_type": "code",
   "execution_count": 5,
   "id": "81fbae66",
   "metadata": {},
   "outputs": [],
   "source": [
    "# %load solution_task1_directSum.py\n",
    "def direct_interaction(list_particles):\n",
    "    \"\"\"Calculates an array which contains the potential of each particle\n",
    "    using the direct particle-particle summation method.\n",
    "    Parameter\n",
    "    ---------\n",
    "    list_particles : list\n",
    "        List of Particle objects. This is the list of all the particles in the simulation.\n",
    "    Return\n",
    "    ------\n",
    "    potential : numpy ndarray\n",
    "        List containing the potential of each particle in the same order as the input.\n",
    "    \"\"\"\n",
    "    potential = np.zeros(len(list_particles), dtype=float)\n",
    "    ######## TODO BEGINS #############\n",
    "\n",
    "    \n",
    "    \n",
    "    ######## TODO ENDS #############\n",
    "    return potential"
   ]
  },
  {
   "cell_type": "code",
   "execution_count": 6,
   "id": "27dd186d",
   "metadata": {},
   "outputs": [
    {
     "ename": "NameError",
     "evalue": "name 'np' is not defined",
     "output_type": "error",
     "traceback": [
      "\u001b[1;31m---------------------------------------------------------------------------\u001b[0m",
      "\u001b[1;31mNameError\u001b[0m                                 Traceback (most recent call last)",
      "Cell \u001b[1;32mIn[6], line 2\u001b[0m\n\u001b[0;32m      1\u001b[0m \u001b[38;5;66;03m# Do the force calculation\u001b[39;00m\n\u001b[1;32m----> 2\u001b[0m direct_potential \u001b[38;5;241m=\u001b[39m \u001b[43mdirect_interaction\u001b[49m\u001b[43m(\u001b[49m\u001b[43mlist_particles\u001b[49m\u001b[43m)\u001b[49m\n\u001b[0;32m      3\u001b[0m \u001b[38;5;66;03m# Plot all particles colord by force\u001b[39;00m\n\u001b[0;32m      4\u001b[0m \u001b[38;5;66;03m# WARNING: If particles are very close the color map will be skewed\u001b[39;00m\n\u001b[0;32m      5\u001b[0m plot_particles(list_particles, color\u001b[38;5;241m=\u001b[39mdirect_potential)\n",
      "Cell \u001b[1;32mIn[5], line 14\u001b[0m, in \u001b[0;36mdirect_interaction\u001b[1;34m(list_particles)\u001b[0m\n\u001b[0;32m      2\u001b[0m \u001b[38;5;28;01mdef\u001b[39;00m \u001b[38;5;21mdirect_interaction\u001b[39m(list_particles):\n\u001b[0;32m      3\u001b[0m \u001b[38;5;250m    \u001b[39m\u001b[38;5;124;03m\"\"\"Calculates an array which contains the potential of each particle\u001b[39;00m\n\u001b[0;32m      4\u001b[0m \u001b[38;5;124;03m    using the direct particle-particle summation method.\u001b[39;00m\n\u001b[0;32m      5\u001b[0m \u001b[38;5;124;03m    Parameter\u001b[39;00m\n\u001b[1;32m   (...)\u001b[0m\n\u001b[0;32m     12\u001b[0m \u001b[38;5;124;03m        List containing the potential of each particle in the same order as the input.\u001b[39;00m\n\u001b[0;32m     13\u001b[0m \u001b[38;5;124;03m    \"\"\"\u001b[39;00m\n\u001b[1;32m---> 14\u001b[0m     potential \u001b[38;5;241m=\u001b[39m \u001b[43mnp\u001b[49m\u001b[38;5;241m.\u001b[39mzeros(\u001b[38;5;28mlen\u001b[39m(list_particles), dtype\u001b[38;5;241m=\u001b[39m\u001b[38;5;28mfloat\u001b[39m)\n\u001b[0;32m     15\u001b[0m     \u001b[38;5;66;03m######## TODO BEGINS #############\u001b[39;00m\n\u001b[0;32m     16\u001b[0m \n\u001b[0;32m     17\u001b[0m     \n\u001b[0;32m     18\u001b[0m     \n\u001b[0;32m     19\u001b[0m     \u001b[38;5;66;03m######## TODO ENDS #############\u001b[39;00m\n\u001b[0;32m     20\u001b[0m     \u001b[38;5;28;01mreturn\u001b[39;00m potential\n",
      "\u001b[1;31mNameError\u001b[0m: name 'np' is not defined"
     ]
    }
   ],
   "source": [
    "# Do the force calculation\n",
    "direct_potential = direct_interaction(list_particles)\n",
    "# Plot all particles colord by force\n",
    "# WARNING: If particles are very close the color map will be skewed\n",
    "plot_particles(list_particles, color=direct_potential)"
   ]
  },
  {
   "cell_type": "code",
   "execution_count": 7,
   "id": "30832d90",
   "metadata": {},
   "outputs": [],
   "source": [
    "# %load solution_task2_updateVerletLists.py\n",
    "def update_verlet_list(p_i, list_particles, nl_radius):\n",
    "    \"\"\"Updates the verlet list of a particle\n",
    "    Parameter\n",
    "    ---------\n",
    "    p_i : object of type Particle\n",
    "        Particle object for which we need to updatet the verlet list\n",
    "    list_particles : list\n",
    "        List of Particle objects. This is the list of all the particles in the simulation.\n",
    "    nl_radius : float\n",
    "        Cut-off radius + skin (default value here is 0.1)\n",
    "    \"\"\"\n",
    "    p_i.verlet_list = [] # add the index(position of particle) that is less than rc\n",
    "    "
   ]
  },
  {
   "cell_type": "code",
   "execution_count": null,
   "id": "bb20d81c",
   "metadata": {},
   "outputs": [],
   "source": []
  }
 ],
 "metadata": {
  "kernelspec": {
   "display_name": "Python 3 (ipykernel)",
   "language": "python",
   "name": "python3"
  },
  "language_info": {
   "codemirror_mode": {
    "name": "ipython",
    "version": 3
   },
   "file_extension": ".py",
   "mimetype": "text/x-python",
   "name": "python",
   "nbconvert_exporter": "python",
   "pygments_lexer": "ipython3",
   "version": "3.11.1"
  }
 },
 "nbformat": 4,
 "nbformat_minor": 5
}
