{
 "cells": [
  {
   "cell_type": "code",
   "execution_count": 1,
   "id": "5c2e051e",
   "metadata": {},
   "outputs": [
    {
     "ename": "ModuleNotFoundError",
     "evalue": "No module named 'matplotlib'",
     "output_type": "error",
     "traceback": [
      "\u001b[1;31m---------------------------------------------------------------------------\u001b[0m",
      "\u001b[1;31mModuleNotFoundError\u001b[0m                       Traceback (most recent call last)",
      "Cell \u001b[1;32mIn[1], line 2\u001b[0m\n\u001b[0;32m      1\u001b[0m \u001b[38;5;28;01mimport\u001b[39;00m \u001b[38;5;21;01mmath\u001b[39;00m\n\u001b[1;32m----> 2\u001b[0m \u001b[43mget_ipython\u001b[49m\u001b[43m(\u001b[49m\u001b[43m)\u001b[49m\u001b[38;5;241;43m.\u001b[39;49m\u001b[43mrun_line_magic\u001b[49m\u001b[43m(\u001b[49m\u001b[38;5;124;43m'\u001b[39;49m\u001b[38;5;124;43mmatplotlib\u001b[39;49m\u001b[38;5;124;43m'\u001b[39;49m\u001b[43m,\u001b[49m\u001b[43m \u001b[49m\u001b[38;5;124;43m'\u001b[39;49m\u001b[38;5;124;43minline\u001b[39;49m\u001b[38;5;124;43m'\u001b[39;49m\u001b[43m)\u001b[49m\n\u001b[0;32m      3\u001b[0m \u001b[38;5;28;01mimport\u001b[39;00m \u001b[38;5;21;01mnumpy\u001b[39;00m \u001b[38;5;28;01mas\u001b[39;00m \u001b[38;5;21;01mnp\u001b[39;00m\n\u001b[0;32m      4\u001b[0m \u001b[38;5;28;01mimport\u001b[39;00m \u001b[38;5;21;01mmatplotlib\u001b[39;00m\u001b[38;5;21;01m.\u001b[39;00m\u001b[38;5;21;01mpyplot\u001b[39;00m \u001b[38;5;28;01mas\u001b[39;00m \u001b[38;5;21;01mplt\u001b[39;00m\n",
      "File \u001b[1;32m~\\AppData\\Local\\Programs\\Python\\Python311\\Lib\\site-packages\\IPython\\core\\interactiveshell.py:2369\u001b[0m, in \u001b[0;36mInteractiveShell.run_line_magic\u001b[1;34m(self, magic_name, line, _stack_depth)\u001b[0m\n\u001b[0;32m   2367\u001b[0m     kwargs[\u001b[38;5;124m'\u001b[39m\u001b[38;5;124mlocal_ns\u001b[39m\u001b[38;5;124m'\u001b[39m] \u001b[38;5;241m=\u001b[39m \u001b[38;5;28mself\u001b[39m\u001b[38;5;241m.\u001b[39mget_local_scope(stack_depth)\n\u001b[0;32m   2368\u001b[0m \u001b[38;5;28;01mwith\u001b[39;00m \u001b[38;5;28mself\u001b[39m\u001b[38;5;241m.\u001b[39mbuiltin_trap:\n\u001b[1;32m-> 2369\u001b[0m     result \u001b[38;5;241m=\u001b[39m \u001b[43mfn\u001b[49m\u001b[43m(\u001b[49m\u001b[38;5;241;43m*\u001b[39;49m\u001b[43margs\u001b[49m\u001b[43m,\u001b[49m\u001b[43m \u001b[49m\u001b[38;5;241;43m*\u001b[39;49m\u001b[38;5;241;43m*\u001b[39;49m\u001b[43mkwargs\u001b[49m\u001b[43m)\u001b[49m\n\u001b[0;32m   2370\u001b[0m \u001b[38;5;28;01mreturn\u001b[39;00m result\n",
      "File \u001b[1;32m~\\AppData\\Local\\Programs\\Python\\Python311\\Lib\\site-packages\\IPython\\core\\magics\\pylab.py:99\u001b[0m, in \u001b[0;36mPylabMagics.matplotlib\u001b[1;34m(self, line)\u001b[0m\n\u001b[0;32m     97\u001b[0m     \u001b[38;5;28mprint\u001b[39m(\u001b[38;5;124m\"\u001b[39m\u001b[38;5;124mAvailable matplotlib backends: \u001b[39m\u001b[38;5;132;01m%s\u001b[39;00m\u001b[38;5;124m\"\u001b[39m \u001b[38;5;241m%\u001b[39m backends_list)\n\u001b[0;32m     98\u001b[0m \u001b[38;5;28;01melse\u001b[39;00m:\n\u001b[1;32m---> 99\u001b[0m     gui, backend \u001b[38;5;241m=\u001b[39m \u001b[38;5;28;43mself\u001b[39;49m\u001b[38;5;241;43m.\u001b[39;49m\u001b[43mshell\u001b[49m\u001b[38;5;241;43m.\u001b[39;49m\u001b[43menable_matplotlib\u001b[49m\u001b[43m(\u001b[49m\u001b[43margs\u001b[49m\u001b[38;5;241;43m.\u001b[39;49m\u001b[43mgui\u001b[49m\u001b[38;5;241;43m.\u001b[39;49m\u001b[43mlower\u001b[49m\u001b[43m(\u001b[49m\u001b[43m)\u001b[49m\u001b[43m \u001b[49m\u001b[38;5;28;43;01mif\u001b[39;49;00m\u001b[43m \u001b[49m\u001b[38;5;28;43misinstance\u001b[39;49m\u001b[43m(\u001b[49m\u001b[43margs\u001b[49m\u001b[38;5;241;43m.\u001b[39;49m\u001b[43mgui\u001b[49m\u001b[43m,\u001b[49m\u001b[43m \u001b[49m\u001b[38;5;28;43mstr\u001b[39;49m\u001b[43m)\u001b[49m\u001b[43m \u001b[49m\u001b[38;5;28;43;01melse\u001b[39;49;00m\u001b[43m \u001b[49m\u001b[43margs\u001b[49m\u001b[38;5;241;43m.\u001b[39;49m\u001b[43mgui\u001b[49m\u001b[43m)\u001b[49m\n\u001b[0;32m    100\u001b[0m     \u001b[38;5;28mself\u001b[39m\u001b[38;5;241m.\u001b[39m_show_matplotlib_backend(args\u001b[38;5;241m.\u001b[39mgui, backend)\n",
      "File \u001b[1;32m~\\AppData\\Local\\Programs\\Python\\Python311\\Lib\\site-packages\\IPython\\core\\interactiveshell.py:3522\u001b[0m, in \u001b[0;36mInteractiveShell.enable_matplotlib\u001b[1;34m(self, gui)\u001b[0m\n\u001b[0;32m   3501\u001b[0m \u001b[38;5;28;01mdef\u001b[39;00m \u001b[38;5;21menable_matplotlib\u001b[39m(\u001b[38;5;28mself\u001b[39m, gui\u001b[38;5;241m=\u001b[39m\u001b[38;5;28;01mNone\u001b[39;00m):\n\u001b[0;32m   3502\u001b[0m \u001b[38;5;250m    \u001b[39m\u001b[38;5;124;03m\"\"\"Enable interactive matplotlib and inline figure support.\u001b[39;00m\n\u001b[0;32m   3503\u001b[0m \n\u001b[0;32m   3504\u001b[0m \u001b[38;5;124;03m    This takes the following steps:\u001b[39;00m\n\u001b[1;32m   (...)\u001b[0m\n\u001b[0;32m   3520\u001b[0m \u001b[38;5;124;03m        display figures inline.\u001b[39;00m\n\u001b[0;32m   3521\u001b[0m \u001b[38;5;124;03m    \"\"\"\u001b[39;00m\n\u001b[1;32m-> 3522\u001b[0m     \u001b[38;5;28;01mfrom\u001b[39;00m \u001b[38;5;21;01mmatplotlib_inline\u001b[39;00m\u001b[38;5;21;01m.\u001b[39;00m\u001b[38;5;21;01mbackend_inline\u001b[39;00m \u001b[38;5;28;01mimport\u001b[39;00m configure_inline_support\n\u001b[0;32m   3524\u001b[0m     \u001b[38;5;28;01mfrom\u001b[39;00m \u001b[38;5;21;01mIPython\u001b[39;00m\u001b[38;5;21;01m.\u001b[39;00m\u001b[38;5;21;01mcore\u001b[39;00m \u001b[38;5;28;01mimport\u001b[39;00m pylabtools \u001b[38;5;28;01mas\u001b[39;00m pt\n\u001b[0;32m   3525\u001b[0m     gui, backend \u001b[38;5;241m=\u001b[39m pt\u001b[38;5;241m.\u001b[39mfind_gui_and_backend(gui, \u001b[38;5;28mself\u001b[39m\u001b[38;5;241m.\u001b[39mpylab_gui_select)\n",
      "File \u001b[1;32m~\\AppData\\Local\\Programs\\Python\\Python311\\Lib\\site-packages\\matplotlib_inline\\__init__.py:1\u001b[0m\n\u001b[1;32m----> 1\u001b[0m \u001b[38;5;28;01mfrom\u001b[39;00m \u001b[38;5;21;01m.\u001b[39;00m \u001b[38;5;28;01mimport\u001b[39;00m backend_inline, config  \u001b[38;5;66;03m# noqa\u001b[39;00m\n\u001b[0;32m      2\u001b[0m __version__ \u001b[38;5;241m=\u001b[39m \u001b[38;5;124m\"\u001b[39m\u001b[38;5;124m0.1.6\u001b[39m\u001b[38;5;124m\"\u001b[39m  \u001b[38;5;66;03m# noqa\u001b[39;00m\n",
      "File \u001b[1;32m~\\AppData\\Local\\Programs\\Python\\Python311\\Lib\\site-packages\\matplotlib_inline\\backend_inline.py:6\u001b[0m\n\u001b[0;32m      1\u001b[0m \u001b[38;5;124;03m\"\"\"A matplotlib backend for publishing figures via display_data\"\"\"\u001b[39;00m\n\u001b[0;32m      3\u001b[0m \u001b[38;5;66;03m# Copyright (c) IPython Development Team.\u001b[39;00m\n\u001b[0;32m      4\u001b[0m \u001b[38;5;66;03m# Distributed under the terms of the BSD 3-Clause License.\u001b[39;00m\n\u001b[1;32m----> 6\u001b[0m \u001b[38;5;28;01mimport\u001b[39;00m \u001b[38;5;21;01mmatplotlib\u001b[39;00m\n\u001b[0;32m      7\u001b[0m \u001b[38;5;28;01mfrom\u001b[39;00m \u001b[38;5;21;01mmatplotlib\u001b[39;00m \u001b[38;5;28;01mimport\u001b[39;00m colors\n\u001b[0;32m      8\u001b[0m \u001b[38;5;28;01mfrom\u001b[39;00m \u001b[38;5;21;01mmatplotlib\u001b[39;00m\u001b[38;5;21;01m.\u001b[39;00m\u001b[38;5;21;01mbackends\u001b[39;00m \u001b[38;5;28;01mimport\u001b[39;00m backend_agg\n",
      "\u001b[1;31mModuleNotFoundError\u001b[0m: No module named 'matplotlib'"
     ]
    }
   ],
   "source": [
    "import math\n",
    "%matplotlib inline\n",
    "import numpy as np\n",
    "import matplotlib.pyplot as plt\n",
    "import matplotlib.animation as animation\n",
    "from IPython.display import HTML\n",
    "import enum\n",
    "from copy import deepcopy\n",
    "import time\n",
    "from abc import ABCMeta"
   ]
  },
  {
   "cell_type": "code",
   "execution_count": 2,
   "id": "59b3cf45",
   "metadata": {},
   "outputs": [
    {
     "ename": "NameError",
     "evalue": "name 'ABCMeta' is not defined",
     "output_type": "error",
     "traceback": [
      "\u001b[1;31m---------------------------------------------------------------------------\u001b[0m",
      "\u001b[1;31mNameError\u001b[0m                                 Traceback (most recent call last)",
      "Cell \u001b[1;32mIn[2], line 1\u001b[0m\n\u001b[1;32m----> 1\u001b[0m \u001b[38;5;28;01mclass\u001b[39;00m \u001b[38;5;21;01mParticle\u001b[39;00m(metaclass\u001b[38;5;241m=\u001b[39m\u001b[43mABCMeta\u001b[49m):\n\u001b[0;32m      3\u001b[0m     \u001b[38;5;28;01mdef\u001b[39;00m \u001b[38;5;21m__init__\u001b[39m(\u001b[38;5;28mself\u001b[39m, \u001b[38;5;28mid\u001b[39m, dim\u001b[38;5;241m=\u001b[39m\u001b[38;5;241m2\u001b[39m, lower\u001b[38;5;241m=\u001b[39m\u001b[38;5;241m0\u001b[39m, upper\u001b[38;5;241m=\u001b[39m\u001b[38;5;241m1\u001b[39m):\n\u001b[0;32m      4\u001b[0m         \u001b[38;5;28mself\u001b[39m\u001b[38;5;241m.\u001b[39mid \u001b[38;5;241m=\u001b[39m \u001b[38;5;28mid\u001b[39m\n",
      "\u001b[1;31mNameError\u001b[0m: name 'ABCMeta' is not defined"
     ]
    }
   ],
   "source": [
    "class Particle(metaclass=ABCMeta):\n",
    "\n",
    "    def __init__(self, id, dim=2, lower=0, upper=1):\n",
    "        self.id = id\n",
    "        self.mass = 1.0\n",
    "        self.coordinates = np.random.uniform(lower, upper, dim)\n",
    "        self.velocity = np.random.uniform(-1, 1, dim)\n",
    "        self.force = np.zeros(dim)"
   ]
  },
  {
   "cell_type": "code",
   "execution_count": 3,
   "id": "3d22b085",
   "metadata": {},
   "outputs": [],
   "source": [
    "def gravity(p_i, p_j, constant = 1.):\n",
    "    \"\"\"\n",
    "    Calculates the gravity p_j applies to p_i\n",
    "    Args:\n",
    "        p_i: Particle i\n",
    "        p_j: Particle j\n",
    "        constant: Gravity constant\n",
    "\n",
    "    Returns:\n",
    "        Force applied by p_j on p_i\n",
    "    \"\"\"\n",
    "\n",
    "    # TODO\n",
    "\n",
    "    return [0., 0.,]"
   ]
  },
  {
   "cell_type": "code",
   "execution_count": 4,
   "id": "4250095b",
   "metadata": {},
   "outputs": [
    {
     "ename": "NameError",
     "evalue": "name 'ABCMeta' is not defined",
     "output_type": "error",
     "traceback": [
      "\u001b[1;31m---------------------------------------------------------------------------\u001b[0m",
      "\u001b[1;31mNameError\u001b[0m                                 Traceback (most recent call last)",
      "Cell \u001b[1;32mIn[4], line 2\u001b[0m\n\u001b[0;32m      1\u001b[0m \u001b[38;5;66;03m#Simulation Below\u001b[39;00m\n\u001b[1;32m----> 2\u001b[0m \u001b[38;5;28;01mclass\u001b[39;00m \u001b[38;5;21;01mSimulation\u001b[39;00m(metaclass\u001b[38;5;241m=\u001b[39m\u001b[43mABCMeta\u001b[49m):\n\u001b[0;32m      4\u001b[0m     \u001b[38;5;28;01mdef\u001b[39;00m \u001b[38;5;21m__init__\u001b[39m(\u001b[38;5;28mself\u001b[39m, num_particles\u001b[38;5;241m=\u001b[39m\u001b[38;5;241m20\u001b[39m, delta_t\u001b[38;5;241m=\u001b[39m\u001b[38;5;241m0.01\u001b[39m):\n\u001b[0;32m      5\u001b[0m         \u001b[38;5;28mself\u001b[39m\u001b[38;5;241m.\u001b[39mdim \u001b[38;5;241m=\u001b[39m \u001b[38;5;241m2\u001b[39m\n",
      "\u001b[1;31mNameError\u001b[0m: name 'ABCMeta' is not defined"
     ]
    }
   ],
   "source": [
    "#Simulation Below\n",
    "class Simulation(metaclass=ABCMeta):\n",
    "\n",
    "    def __init__(self, num_particles=20, delta_t=0.01):\n",
    "        self.dim = 2\n",
    "        self.particles = []\n",
    "        for index in range(num_particles):\n",
    "            self.particles.append(Particle(index, dim=self.dim))\n",
    "        self.delta_t = delta_t\n",
    "        self.boxMin = [0., 0.]\n",
    "        self.boxMax = [1., 1.]\n",
    "        self.time_simulation = 0.\n",
    "        self.time_force = 0.\n",
    "        self.time_positions = 0.\n",
    "        self.time_velocities = 0.\n",
    "\n",
    "    def update_positions(self):\n",
    "        \"\"\"\n",
    "        Update all particle positions according to the current velocities.\n",
    "        Also applies wall boundary conditions.\n",
    "        \"\"\"\n",
    "        delta_t_squared_half = 0.5 * self.delta_t * self.delta_t\n",
    "        for p in self.particles:\n",
    "            # move particle to new position\n",
    "            p.coordinates += (self.delta_t * p.velocity) + (delta_t_squared_half * p.force)\n",
    "            # respect boundaries\n",
    "            for i in range(len(p.coordinates)):\n",
    "                # if we are near a boundary invert the direction of the velocity\n",
    "                if (p.coordinates[i] - self.boxMin[i]) < 1e-2 or (self.boxMax[i] - p.coordinates[i]) < 1e-2:\n",
    "                    p.velocity[i] *= -1.0\n",
    "                # if we crossed the boundary reset the particle to the border\n",
    "                if p.coordinates[i] < self.boxMin[i]:\n",
    "                    p.coordinates[i] = self.boxMin[i]\n",
    "                if p.coordinates[i] > self.boxMax[i]:\n",
    "                    p.coordinates[i] = self.boxMax[i]\n",
    "\n",
    "    def update_velocities(self):\n",
    "        \"\"\"\n",
    "        Half a velocity update for all particles.\n",
    "        \"\"\"\n",
    "        delta_t_half = 0.5 * self.delta_t\n",
    "        for p in self.particles:\n",
    "            p.velocity +=  delta_t_half * p.force / p.mass\n",
    "\n",
    "    def calculate_forces(self):\n",
    "        \"\"\"\n",
    "        Calculate all pairwise gravity forces.\n",
    "        \"\"\"\n",
    "        for p_i in self.particles:\n",
    "            # reset forces\n",
    "            p_i.force = np.zeros(self.dim)\n",
    "            # direct sum\n",
    "            for p_j in self.particles:\n",
    "                # skip self interaction\n",
    "                if p_i.id == p_j.id:\n",
    "                    continue\n",
    "                p_i.force += gravity(p_i, p_j)\n",
    "\n",
    "    def get_coordinates(self):\n",
    "        \"\"\"Return the seprate arrays containing the x and y coordinates of particles\n",
    "        \"\"\"\n",
    "        x = np.zeros(len(self.particles))\n",
    "        y = np.zeros(len(self.particles))\n",
    "        for idx, particle in enumerate(self.particles):\n",
    "            x[idx], y[idx] = particle.coordinates[0], particle.coordinates[1]\n",
    "        return  x, y\n",
    "    \n",
    "    def init_simulation(self, ax):\n",
    "        ax.set_xlim((self.boxMin[0], self.boxMax[0]))\n",
    "        ax.set_ylim((self.boxMin[1], self.boxMax[1]))\n",
    "\n",
    "        self.particles_plot, = ax.plot([], [], 'go')\n",
    "        self.particles_plot.set_data([], [])\n",
    "\n",
    "    def do_simulation(self):\n",
    "        \"\"\"\n",
    "        Performs one time step of the simulation.\n",
    "        \"\"\"\n",
    "        time_iteration_start = time.time()\n",
    "\n",
    "        # update positions and periodic boundaries\n",
    "        time_positions_start = time.time()\n",
    "        self.update_positions()\n",
    "        self.time_positions += time.time() - time_positions_start\n",
    "\n",
    "        # update velocities part 1\n",
    "        time_velocities_start = time.time()\n",
    "        self.update_velocities()\n",
    "        self.time_velocities += time.time() - time_velocities_start\n",
    "\n",
    "        # reset and calculate forces\n",
    "        time_force_start = time.time()\n",
    "        self.calculate_forces()\n",
    "        self.time_force += time.time() - time_force_start\n",
    "\n",
    "        # update velocities part 2\n",
    "        time_velocities_start = time.time()\n",
    "        self.update_velocities()\n",
    "        self.time_velocities += time.time() - time_velocities_start\n",
    "\n",
    "        self.time_simulation += time.time() - time_iteration_start\n",
    "\n",
    "    def get_animation_frame(self, i):\n",
    "        self.do_simulation()\n",
    "\n",
    "        x, y = self.get_coordinates()\n",
    "        self.particles_plot.set_data(x, y)\n",
    "        plt.title('t=' + str(i + 1))\n",
    "        return (self.particles_plot,)\n",
    "    \n",
    "    def get_time_analysis(self):\n",
    "        \"\"\"\n",
    "        Prints the percentage of time stpent on different parts of the simulation\n",
    "        \"\"\"\n",
    "        print(\"Total time:  {:.2f} [s]\".format(self.time_simulation))\n",
    "        print(\"Percentages of time:\")\n",
    "        print(\"   Positions          {:.2f}%\".format(self.time_positions / self.time_simulation * 100.))\n",
    "        print(\"   Velocities         {:.2f}%\".format(self.time_velocities / self.time_simulation * 100.))\n",
    "        print(\"   Force Calculation {:.2f}%\".format(self.time_force / self.time_simulation * 100.))"
   ]
  },
  {
   "cell_type": "code",
   "execution_count": 5,
   "id": "400368c1",
   "metadata": {},
   "outputs": [
    {
     "ename": "NameError",
     "evalue": "name 'plt' is not defined",
     "output_type": "error",
     "traceback": [
      "\u001b[1;31m---------------------------------------------------------------------------\u001b[0m",
      "\u001b[1;31mNameError\u001b[0m                                 Traceback (most recent call last)",
      "Cell \u001b[1;32mIn[5], line 2\u001b[0m\n\u001b[0;32m      1\u001b[0m \u001b[38;5;66;03m# First set up the figure, the axis, and the plot element we want to animate\u001b[39;00m\n\u001b[1;32m----> 2\u001b[0m fig, ax \u001b[38;5;241m=\u001b[39m \u001b[43mplt\u001b[49m\u001b[38;5;241m.\u001b[39msubplots()\n\u001b[0;32m      3\u001b[0m num_time_steps \u001b[38;5;241m=\u001b[39m \u001b[38;5;241m100\u001b[39m\n\u001b[0;32m      5\u001b[0m \u001b[38;5;66;03m# Create a simulation object\u001b[39;00m\n",
      "\u001b[1;31mNameError\u001b[0m: name 'plt' is not defined"
     ]
    }
   ],
   "source": [
    "# First set up the figure, the axis, and the plot element we want to animate\n",
    "fig, ax = plt.subplots()\n",
    "num_time_steps = 100\n",
    "\n",
    "# Create a simulation object\n",
    "simulation = Simulation(delta_t=.01, num_particles=2)\n",
    "\n",
    "# the object initialises the coordinates and velocities with random values\n",
    "# for head on collision we modify the values\n",
    "simulation.particles[0].coordinates = np.array([0.5, .25])\n",
    "simulation.particles[1].coordinates = np.array([0.5, .75])\n",
    "simulation.particles[0].velocity = np.array([0., 1.])\n",
    "simulation.particles[1].velocity = np.array([0., -1.])\n",
    "\n",
    "# Do simulation and get animation\n",
    "simulation.init_simulation(ax)\n",
    "anim = animation.FuncAnimation(fig, simulation.get_animation_frame, frames=num_time_steps, interval=300, blit=True)\n",
    "\n",
    "# Get the animation\n",
    "HTML(anim.to_html5_video())"
   ]
  },
  {
   "cell_type": "code",
   "execution_count": 6,
   "id": "c3e0830e",
   "metadata": {},
   "outputs": [
    {
     "ename": "NameError",
     "evalue": "name 'plt' is not defined",
     "output_type": "error",
     "traceback": [
      "\u001b[1;31m---------------------------------------------------------------------------\u001b[0m",
      "\u001b[1;31mNameError\u001b[0m                                 Traceback (most recent call last)",
      "Cell \u001b[1;32mIn[6], line 2\u001b[0m\n\u001b[0;32m      1\u001b[0m \u001b[38;5;66;03m# First set up the figure, the axis, and the plot element we want to animate\u001b[39;00m\n\u001b[1;32m----> 2\u001b[0m fig, ax \u001b[38;5;241m=\u001b[39m \u001b[43mplt\u001b[49m\u001b[38;5;241m.\u001b[39msubplots()\n\u001b[0;32m      3\u001b[0m num_time_steps \u001b[38;5;241m=\u001b[39m \u001b[38;5;241m100\u001b[39m\n\u001b[0;32m      5\u001b[0m \u001b[38;5;66;03m# Create a simulation object\u001b[39;00m\n",
      "\u001b[1;31mNameError\u001b[0m: name 'plt' is not defined"
     ]
    }
   ],
   "source": [
    "# First set up the figure, the axis, and the plot element we want to animate\n",
    "fig, ax = plt.subplots()\n",
    "num_time_steps = 100\n",
    "\n",
    "# Create a simulation object\n",
    "simulation = Simulation(delta_t=.0005, num_particles=100)\n",
    "\n",
    "# Do simulation\n",
    "simulation.init_simulation(ax)\n",
    "anim = animation.FuncAnimation(fig, simulation.get_animation_frame, frames=num_time_steps, interval=300, blit=True)\n",
    "\n",
    "# Get the animation\n",
    "HTML(anim.to_html5_video())"
   ]
  },
  {
   "cell_type": "code",
   "execution_count": 7,
   "id": "ef0b7848",
   "metadata": {},
   "outputs": [
    {
     "ename": "NameError",
     "evalue": "name 'simulation' is not defined",
     "output_type": "error",
     "traceback": [
      "\u001b[1;31m---------------------------------------------------------------------------\u001b[0m",
      "\u001b[1;31mNameError\u001b[0m                                 Traceback (most recent call last)",
      "Cell \u001b[1;32mIn[7], line 1\u001b[0m\n\u001b[1;32m----> 1\u001b[0m \u001b[43msimulation\u001b[49m\u001b[38;5;241m.\u001b[39mget_time_analysis()\n",
      "\u001b[1;31mNameError\u001b[0m: name 'simulation' is not defined"
     ]
    }
   ],
   "source": [
    "simulation.get_time_analysis()"
   ]
  },
  {
   "cell_type": "code",
   "execution_count": null,
   "id": "20e345d1",
   "metadata": {},
   "outputs": [],
   "source": []
  },
  {
   "cell_type": "code",
   "execution_count": null,
   "id": "fbfe9443",
   "metadata": {},
   "outputs": [],
   "source": []
  }
 ],
 "metadata": {
  "kernelspec": {
   "display_name": "Python 3 (ipykernel)",
   "language": "python",
   "name": "python3"
  },
  "language_info": {
   "codemirror_mode": {
    "name": "ipython",
    "version": 3
   },
   "file_extension": ".py",
   "mimetype": "text/x-python",
   "name": "python",
   "nbconvert_exporter": "python",
   "pygments_lexer": "ipython3",
   "version": "3.11.1"
  }
 },
 "nbformat": 4,
 "nbformat_minor": 5
}
