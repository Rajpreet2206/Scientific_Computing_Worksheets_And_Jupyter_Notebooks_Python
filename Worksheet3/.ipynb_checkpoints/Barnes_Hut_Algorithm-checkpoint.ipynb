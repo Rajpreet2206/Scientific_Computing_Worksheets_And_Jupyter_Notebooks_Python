{
 "cells": [
  {
   "cell_type": "code",
   "execution_count": 1,
   "id": "19ba452a",
   "metadata": {},
   "outputs": [
    {
     "ename": "ModuleNotFoundError",
     "evalue": "No module named 'numpy'",
     "output_type": "error",
     "traceback": [
      "\u001b[1;31m---------------------------------------------------------------------------\u001b[0m",
      "\u001b[1;31mModuleNotFoundError\u001b[0m                       Traceback (most recent call last)",
      "Cell \u001b[1;32mIn[1], line 1\u001b[0m\n\u001b[1;32m----> 1\u001b[0m \u001b[38;5;28;01mimport\u001b[39;00m \u001b[38;5;21;01mnumpy\u001b[39;00m \u001b[38;5;28;01mas\u001b[39;00m \u001b[38;5;21;01mnp\u001b[39;00m\n\u001b[0;32m      2\u001b[0m \u001b[38;5;28;01mimport\u001b[39;00m \u001b[38;5;21;01mmatplotlib\u001b[39;00m\u001b[38;5;21;01m.\u001b[39;00m\u001b[38;5;21;01mpyplot\u001b[39;00m \u001b[38;5;28;01mas\u001b[39;00m \u001b[38;5;21;01mplt\u001b[39;00m\n\u001b[0;32m      3\u001b[0m \u001b[38;5;28;01mfrom\u001b[39;00m \u001b[38;5;21;01mmatplotlib\u001b[39;00m \u001b[38;5;28;01mimport\u001b[39;00m rcParams, patches\n",
      "\u001b[1;31mModuleNotFoundError\u001b[0m: No module named 'numpy'"
     ]
    }
   ],
   "source": [
    "import numpy as np\n",
    "import matplotlib.pyplot as plt\n",
    "from matplotlib import rcParams, patches\n",
    "import time\n"
   ]
  },
  {
   "cell_type": "code",
   "execution_count": 2,
   "id": "259553de",
   "metadata": {},
   "outputs": [],
   "source": [
    "#----- class Point definition-----#\n",
    "class Point():\n",
    "    \n",
    "    \"\"\"The class for a point.\n",
    "    \n",
    "    Arguments:\n",
    "        coords: a two-element list, containing the 2d coordinates of the point.\n",
    "        domain: the domain of random generated coordinates x,y default=1.0.\n",
    "    \n",
    "    Attributes:\n",
    "        x, y: coordinates of the point.\n",
    "    \"\"\"\n",
    "    \n",
    "    def __init__(self, coords=[], domain=1.0):\n",
    "        if coords:\n",
    "            assert len(coords) == 2, \"the size of coords should be 3.\"\n",
    "            self.x = coords[0]\n",
    "            self.y = coords[1]\n",
    "        else:\n",
    "            self.x = domain * np.random.random()\n",
    "            self.y = domain * np.random.random()\n",
    "            \n",
    "    def distance(self, other):\n",
    "        return np.sqrt((self.x-other.x)**2 + (self.y-other.y)**2)\n",
    "\n",
    "\n",
    "class Particle(Point):\n",
    "    \n",
    "    \"\"\"The derived class for a particle, inheriting the base class \"Point\".\n",
    "    \n",
    "    Attributes:\n",
    "        m: mass of the particle.\n",
    "        phi: the gravitational potential of the particle.\n",
    "    \"\"\"\n",
    "    \n",
    "    def __init__(self, coords=[], domain=1.0, m=1.0):\n",
    "        Point.__init__(self, coords, domain)\n",
    "        self.m = m\n",
    "        self.phi = 0.\n",
    "        \n",
    "    def plot(self, s=10):\n",
    "        plt.scatter(self.x, self.y, marker='o', color='r', s=s)"
   ]
  },
  {
   "cell_type": "code",
   "execution_count": 3,
   "id": "02bcd242",
   "metadata": {},
   "outputs": [
    {
     "name": "stdout",
     "output_type": "stream",
     "text": [
      "Creating particles\n"
     ]
    },
    {
     "ename": "NameError",
     "evalue": "name 'np' is not defined",
     "output_type": "error",
     "traceback": [
      "\u001b[1;31m---------------------------------------------------------------------------\u001b[0m",
      "\u001b[1;31mNameError\u001b[0m                                 Traceback (most recent call last)",
      "Cell \u001b[1;32mIn[3], line 6\u001b[0m\n\u001b[0;32m      4\u001b[0m \u001b[38;5;28mprint\u001b[39m(\u001b[38;5;124m\"\u001b[39m\u001b[38;5;124mCreating particles\u001b[39m\u001b[38;5;124m\"\u001b[39m)\n\u001b[0;32m      5\u001b[0m \u001b[38;5;28;01mfor\u001b[39;00m i \u001b[38;5;129;01min\u001b[39;00m \u001b[38;5;28mrange\u001b[39m(num_particles):\n\u001b[1;32m----> 6\u001b[0m     list_particles\u001b[38;5;241m.\u001b[39mappend(\u001b[43mParticle\u001b[49m\u001b[43m(\u001b[49m\u001b[43m)\u001b[49m)\n\u001b[0;32m      7\u001b[0m \u001b[38;5;28mprint\u001b[39m(\u001b[38;5;124m\"\u001b[39m\u001b[38;5;124mdone!\u001b[39m\u001b[38;5;124m\"\u001b[39m)   \n",
      "Cell \u001b[1;32mIn[2], line 37\u001b[0m, in \u001b[0;36mParticle.__init__\u001b[1;34m(self, coords, domain, m)\u001b[0m\n\u001b[0;32m     36\u001b[0m \u001b[38;5;28;01mdef\u001b[39;00m \u001b[38;5;21m__init__\u001b[39m(\u001b[38;5;28mself\u001b[39m, coords\u001b[38;5;241m=\u001b[39m[], domain\u001b[38;5;241m=\u001b[39m\u001b[38;5;241m1.0\u001b[39m, m\u001b[38;5;241m=\u001b[39m\u001b[38;5;241m1.0\u001b[39m):\n\u001b[1;32m---> 37\u001b[0m     \u001b[43mPoint\u001b[49m\u001b[38;5;241;43m.\u001b[39;49m\u001b[38;5;21;43m__init__\u001b[39;49m\u001b[43m(\u001b[49m\u001b[38;5;28;43mself\u001b[39;49m\u001b[43m,\u001b[49m\u001b[43m \u001b[49m\u001b[43mcoords\u001b[49m\u001b[43m,\u001b[49m\u001b[43m \u001b[49m\u001b[43mdomain\u001b[49m\u001b[43m)\u001b[49m\n\u001b[0;32m     38\u001b[0m     \u001b[38;5;28mself\u001b[39m\u001b[38;5;241m.\u001b[39mm \u001b[38;5;241m=\u001b[39m m\n\u001b[0;32m     39\u001b[0m     \u001b[38;5;28mself\u001b[39m\u001b[38;5;241m.\u001b[39mphi \u001b[38;5;241m=\u001b[39m \u001b[38;5;241m0.\u001b[39m\n",
      "Cell \u001b[1;32mIn[2], line 20\u001b[0m, in \u001b[0;36mPoint.__init__\u001b[1;34m(self, coords, domain)\u001b[0m\n\u001b[0;32m     18\u001b[0m     \u001b[38;5;28mself\u001b[39m\u001b[38;5;241m.\u001b[39my \u001b[38;5;241m=\u001b[39m coords[\u001b[38;5;241m1\u001b[39m]\n\u001b[0;32m     19\u001b[0m \u001b[38;5;28;01melse\u001b[39;00m:\n\u001b[1;32m---> 20\u001b[0m     \u001b[38;5;28mself\u001b[39m\u001b[38;5;241m.\u001b[39mx \u001b[38;5;241m=\u001b[39m domain \u001b[38;5;241m*\u001b[39m \u001b[43mnp\u001b[49m\u001b[38;5;241m.\u001b[39mrandom\u001b[38;5;241m.\u001b[39mrandom()\n\u001b[0;32m     21\u001b[0m     \u001b[38;5;28mself\u001b[39m\u001b[38;5;241m.\u001b[39my \u001b[38;5;241m=\u001b[39m domain \u001b[38;5;241m*\u001b[39m np\u001b[38;5;241m.\u001b[39mrandom\u001b[38;5;241m.\u001b[39mrandom()\n",
      "\u001b[1;31mNameError\u001b[0m: name 'np' is not defined"
     ]
    }
   ],
   "source": [
    "list_particles = []\n",
    "num_particles = 100\n",
    "n_crit = 10\n",
    "print(\"Creating particles\")\n",
    "for i in range(num_particles):\n",
    "    list_particles.append(Particle())\n",
    "print(\"done!\")   \n"
   ]
  },
  {
   "cell_type": "code",
   "execution_count": 4,
   "id": "9c9f3546",
   "metadata": {},
   "outputs": [],
   "source": [
    "class Cell():\n",
    "    \n",
    "    \"\"\"The class for a cell.\n",
    "    \n",
    "    Arguments:\n",
    "        n_crit: maximum number of particles in a leaf cell.\n",
    "    \n",
    "    Attributes:\n",
    "        nparticles (int): number of particles in the cell\n",
    "        particle_index (array of int): array of leaf index\n",
    "        nchild (int):  an integer whose last 8 bits is used to keep track \n",
    "        of the empty child cells\n",
    "        child_index (array of int): array of child index\n",
    "        parent (int): index of parent cell\n",
    "        x, y (float): coordinates of the cell's center\n",
    "        r (float): radius of the cell (half of the side length for cubic cell)      \n",
    "    \"\"\"\n",
    "    \n",
    "    def __init__(self, n_crit, center=[0., 0.], radius=0., multipole_order=0):\n",
    "        self.nparticles = 0                                     # number of particels\n",
    "        self.particle_index = np.zeros(n_crit, dtype=int)    # array of particle indices\n",
    "        self.nchild = 0                                         # binary counter to keep track of empty cells\n",
    "        self.child_index = np.zeros(4, dtype=int)            # array of child index\n",
    "        self.parent = 0                                         # index of parent cell\n",
    "        self.x = center[0]\n",
    "        self.y = center[1]                                      # center of the cell\n",
    "        self.r = radius                                         # radius of the cell\n",
    "        self.level = 0\n",
    "\n",
    "    def distance(self, other):\n",
    "        return np.sqrt((self.x-other.x)**2 + (self.y-other.y)**2)\n",
    "\n",
    "    def plot(self, ax, linewidth=1, edgecolor='r', facecolor='none'):\n",
    "        rect = patches.Rectangle((self.x-self.r, self.y-self.r), 2*self.r, 2*self.r, linewidth=linewidth,\n",
    "                                 edgecolor=edgecolor, facecolor=facecolor)\n",
    "        ax.add_patch(rect)\n",
    "        \n",
    "    def plot1(self, n_crit, linewidth=1, color='k'):\n",
    "        if self.nparticles >= n_crit:\n",
    "            plt.hlines(self.y, self.x - self.r, self.x + self.r, linewidth=linewidth, color=color)\n",
    "            plt.vlines(self.x, self.y - self.r, self.y + self.r, linewidth=linewidth, color=color)\n",
    "            "
   ]
  },
  {
   "cell_type": "code",
   "execution_count": 5,
   "id": "2af47d29",
   "metadata": {},
   "outputs": [
    {
     "ename": "NameError",
     "evalue": "name 'np' is not defined",
     "output_type": "error",
     "traceback": [
      "\u001b[1;31m---------------------------------------------------------------------------\u001b[0m",
      "\u001b[1;31mNameError\u001b[0m                                 Traceback (most recent call last)",
      "Cell \u001b[1;32mIn[5], line 2\u001b[0m\n\u001b[0;32m      1\u001b[0m \u001b[38;5;66;03m# Create a root cell\u001b[39;00m\n\u001b[1;32m----> 2\u001b[0m root \u001b[38;5;241m=\u001b[39m \u001b[43mCell\u001b[49m\u001b[43m(\u001b[49m\u001b[43mn_crit\u001b[49m\u001b[43m,\u001b[49m\u001b[43m \u001b[49m\u001b[43mcenter\u001b[49m\u001b[38;5;241;43m=\u001b[39;49m\u001b[43m[\u001b[49m\u001b[38;5;241;43m0.5\u001b[39;49m\u001b[43m,\u001b[49m\u001b[43m \u001b[49m\u001b[38;5;241;43m0.5\u001b[39;49m\u001b[43m]\u001b[49m\u001b[43m,\u001b[49m\u001b[43m \u001b[49m\u001b[43mradius\u001b[49m\u001b[38;5;241;43m=\u001b[39;49m\u001b[38;5;241;43m0.5\u001b[39;49m\u001b[43m)\u001b[49m\n",
      "Cell \u001b[1;32mIn[4], line 21\u001b[0m, in \u001b[0;36mCell.__init__\u001b[1;34m(self, n_crit, center, radius, multipole_order)\u001b[0m\n\u001b[0;32m     19\u001b[0m \u001b[38;5;28;01mdef\u001b[39;00m \u001b[38;5;21m__init__\u001b[39m(\u001b[38;5;28mself\u001b[39m, n_crit, center\u001b[38;5;241m=\u001b[39m[\u001b[38;5;241m0.\u001b[39m, \u001b[38;5;241m0.\u001b[39m], radius\u001b[38;5;241m=\u001b[39m\u001b[38;5;241m0.\u001b[39m, multipole_order\u001b[38;5;241m=\u001b[39m\u001b[38;5;241m0\u001b[39m):\n\u001b[0;32m     20\u001b[0m     \u001b[38;5;28mself\u001b[39m\u001b[38;5;241m.\u001b[39mnparticles \u001b[38;5;241m=\u001b[39m \u001b[38;5;241m0\u001b[39m                                     \u001b[38;5;66;03m# number of particels\u001b[39;00m\n\u001b[1;32m---> 21\u001b[0m     \u001b[38;5;28mself\u001b[39m\u001b[38;5;241m.\u001b[39mparticle_index \u001b[38;5;241m=\u001b[39m \u001b[43mnp\u001b[49m\u001b[38;5;241m.\u001b[39mzeros(n_crit, dtype\u001b[38;5;241m=\u001b[39m\u001b[38;5;28mint\u001b[39m)    \u001b[38;5;66;03m# array of particle indices\u001b[39;00m\n\u001b[0;32m     22\u001b[0m     \u001b[38;5;28mself\u001b[39m\u001b[38;5;241m.\u001b[39mnchild \u001b[38;5;241m=\u001b[39m \u001b[38;5;241m0\u001b[39m                                         \u001b[38;5;66;03m# binary counter to keep track of empty cells\u001b[39;00m\n\u001b[0;32m     23\u001b[0m     \u001b[38;5;28mself\u001b[39m\u001b[38;5;241m.\u001b[39mchild_index \u001b[38;5;241m=\u001b[39m np\u001b[38;5;241m.\u001b[39mzeros(\u001b[38;5;241m4\u001b[39m, dtype\u001b[38;5;241m=\u001b[39m\u001b[38;5;28mint\u001b[39m)            \u001b[38;5;66;03m# array of child index\u001b[39;00m\n",
      "\u001b[1;31mNameError\u001b[0m: name 'np' is not defined"
     ]
    }
   ],
   "source": [
    "# Create a root cell\n",
    "root = Cell(n_crit, center=[0.5, 0.5], radius=0.5)"
   ]
  },
  {
   "cell_type": "code",
   "execution_count": 6,
   "id": "a807a378",
   "metadata": {},
   "outputs": [],
   "source": [
    "def add_child(quadrant, p, list_cells, n_crit):\n",
    "    \n",
    "    \"\"\"Add a cell to the end of cells list as a child of p, initialize the\n",
    "    center and radius of the child cell c, and establish mutual reference\n",
    "    between child c and parent p.\n",
    "    \n",
    "    Arguments:\n",
    "        quadrant: reference to one of the four divisions in two dimensions.\n",
    "        p: parent cell index in cells list.\n",
    "        list_cells: the list of cells.\n",
    "        n_crit: maximum number of particles in a leaf cell.\n",
    "    \"\"\"\n",
    "    \n",
    "    # create a new cell instance\n",
    "    list_cells.append(Cell(n_crit))\n",
    "    \n",
    "    # the index of the new child is the end of list_cells\n",
    "    c = len(list_cells) - 1\n",
    "    \n",
    "    # geometric relationship between parent and child\n",
    "    list_cells[c].r = list_cells[p].r / 2\n",
    "    list_cells[c].x = list_cells[p].x + list_cells[c].r * ((quadrant & 1) * 2 - 1)\n",
    "    list_cells[c].y = list_cells[p].y + list_cells[c].r * ((quadrant & 2) - 1)\n",
    "    \n",
    "    # establish mutual reference in the cells list\n",
    "    list_cells[c].parent = p\n",
    "    list_cells[p].child_index[quadrant] = c\n",
    "    list_cells[p].nchild = (list_cells[p].nchild | (1 << quadrant))\n",
    "    list_cells[c].level = list_cells[p].level + 1"
   ]
  },
  {
   "cell_type": "code",
   "execution_count": 7,
   "id": "46a9fe86",
   "metadata": {},
   "outputs": [],
   "source": [
    "def split_cell(list_particles, p, list_cells, n_crit):\n",
    "    \n",
    "    \"\"\"Loop in parent p's leafs and reallocate the particles to subcells. \n",
    "    If a subcell has not been created in that quadrant, create one using add_child. \n",
    "    If the subcell c's leaf number exceeds n_crit, split the subcell c recursively.\n",
    "    \n",
    "    Arguments: \n",
    "        list_particles: the list of particles.\n",
    "        p: parent cell index in cells list.\n",
    "        list_cells: the list of cells.\n",
    "        n_crit: maximum number of particles in a leaf cell.\n",
    "    \"\"\"\n",
    "    \n",
    "    # loop in the particles stored in the parent cell that you want to split\n",
    "    for l in list_cells[p].particle_index:\n",
    "        \n",
    "        # finds the particle's quadrant\n",
    "        quadrant = (list_particles[l].x > list_cells[p].x) + ((list_particles[l].y > list_cells[p].y) << 1) \n",
    "\n",
    "        # if there is not a child cell in the particles available unless: You below quadrant, then create one\n",
    "        if not list_cells[p].nchild & (1 << quadrant):\n",
    "            add_child(quadrant, p, list_cells, n_crit)\n",
    "        \n",
    "        # reallocate the particle in the child cell\n",
    "        c = list_cells[p].child_index[quadrant]\n",
    "        list_cells[c].particle_index[list_cells[c].nparticles] = l\n",
    "        list_cells[c].nparticles += 1\n",
    "        \n",
    "        # check if the child reach n_crit\n",
    "        if list_cells[c].nparticles >= n_crit:\n",
    "            split_cell(list_particles, c, list_cells, n_crit)"
   ]
  },
  {
   "cell_type": "code",
   "execution_count": 8,
   "id": "6739ef0d",
   "metadata": {},
   "outputs": [],
   "source": [
    "def build_tree(list_particles, root, n_crit):\n",
    "    \n",
    "    \"\"\"Construct a hierarchical octree to store the particles and return \n",
    "    the tree (list) of cells.\n",
    "    \n",
    "    Arguments:\n",
    "        list_particles: the list of particles.\n",
    "        root: the root cell.\n",
    "        n_crit: maximum number of particles in a single cell.\n",
    "    \n",
    "    Returns:\n",
    "        list_cells: the list of cells.\n",
    "    \n",
    "    \"\"\"\n",
    "    # set root cell\n",
    "    list_cells = [root]\n",
    "    \n",
    "    # build tree\n",
    "    n = len(list_particles)\n",
    "    for i in range(n):\n",
    "        \n",
    "        # traverse from the root down to a leaf cell\n",
    "        curr = 0\n",
    "        \n",
    "        while list_cells[curr].nparticles >= n_crit:\n",
    "            list_cells[curr].nparticles += 1\n",
    "            quadrant = (list_particles[i].x > list_cells[curr].x) + ((list_particles[i].y > list_cells[curr].y) << 1) \n",
    "            \n",
    "            # if there is no child cell in the particles quadrant, then create one\n",
    "            if not list_cells[curr].nchild & (1 << quadrant):\n",
    "                add_child(quadrant, curr, list_cells, n_crit)\n",
    "        \n",
    "            curr = list_cells[curr].child_index[quadrant]\n",
    "        \n",
    "        # allocate the particle in the leaf cell\n",
    "        list_cells[curr].particle_index[list_cells[curr].nparticles] = i\n",
    "        list_cells[curr].nparticles += 1\n",
    "        \n",
    "        # check whether to split or not\n",
    "        if list_cells[curr].nparticles >= n_crit:\n",
    "            split_cell(list_particles, curr, list_cells, n_crit)\n",
    "    \n",
    "    return list_cells"
   ]
  },
  {
   "cell_type": "code",
   "execution_count": 9,
   "id": "211de52d",
   "metadata": {},
   "outputs": [
    {
     "ename": "NameError",
     "evalue": "name 'np' is not defined",
     "output_type": "error",
     "traceback": [
      "\u001b[1;31m---------------------------------------------------------------------------\u001b[0m",
      "\u001b[1;31mNameError\u001b[0m                                 Traceback (most recent call last)",
      "Cell \u001b[1;32mIn[9], line 3\u001b[0m\n\u001b[0;32m      1\u001b[0m \u001b[38;5;66;03m# Create a root cell\u001b[39;00m\n\u001b[0;32m      2\u001b[0m n_crit \u001b[38;5;241m=\u001b[39m \u001b[38;5;241m10\u001b[39m\n\u001b[1;32m----> 3\u001b[0m root \u001b[38;5;241m=\u001b[39m \u001b[43mCell\u001b[49m\u001b[43m(\u001b[49m\u001b[43mn_crit\u001b[49m\u001b[43m,\u001b[49m\u001b[43m \u001b[49m\u001b[43mcenter\u001b[49m\u001b[38;5;241;43m=\u001b[39;49m\u001b[43m[\u001b[49m\u001b[38;5;241;43m0.5\u001b[39;49m\u001b[43m,\u001b[49m\u001b[43m \u001b[49m\u001b[38;5;241;43m0.5\u001b[39;49m\u001b[43m]\u001b[49m\u001b[43m,\u001b[49m\u001b[43m \u001b[49m\u001b[43mradius\u001b[49m\u001b[38;5;241;43m=\u001b[39;49m\u001b[38;5;241;43m0.5\u001b[39;49m\u001b[43m)\u001b[49m\n\u001b[0;32m      4\u001b[0m \u001b[38;5;66;03m# build the tree\u001b[39;00m\n\u001b[0;32m      5\u001b[0m cells_list \u001b[38;5;241m=\u001b[39m build_tree(list_particles, root, n_crit)\n",
      "Cell \u001b[1;32mIn[4], line 21\u001b[0m, in \u001b[0;36mCell.__init__\u001b[1;34m(self, n_crit, center, radius, multipole_order)\u001b[0m\n\u001b[0;32m     19\u001b[0m \u001b[38;5;28;01mdef\u001b[39;00m \u001b[38;5;21m__init__\u001b[39m(\u001b[38;5;28mself\u001b[39m, n_crit, center\u001b[38;5;241m=\u001b[39m[\u001b[38;5;241m0.\u001b[39m, \u001b[38;5;241m0.\u001b[39m], radius\u001b[38;5;241m=\u001b[39m\u001b[38;5;241m0.\u001b[39m, multipole_order\u001b[38;5;241m=\u001b[39m\u001b[38;5;241m0\u001b[39m):\n\u001b[0;32m     20\u001b[0m     \u001b[38;5;28mself\u001b[39m\u001b[38;5;241m.\u001b[39mnparticles \u001b[38;5;241m=\u001b[39m \u001b[38;5;241m0\u001b[39m                                     \u001b[38;5;66;03m# number of particels\u001b[39;00m\n\u001b[1;32m---> 21\u001b[0m     \u001b[38;5;28mself\u001b[39m\u001b[38;5;241m.\u001b[39mparticle_index \u001b[38;5;241m=\u001b[39m \u001b[43mnp\u001b[49m\u001b[38;5;241m.\u001b[39mzeros(n_crit, dtype\u001b[38;5;241m=\u001b[39m\u001b[38;5;28mint\u001b[39m)    \u001b[38;5;66;03m# array of particle indices\u001b[39;00m\n\u001b[0;32m     22\u001b[0m     \u001b[38;5;28mself\u001b[39m\u001b[38;5;241m.\u001b[39mnchild \u001b[38;5;241m=\u001b[39m \u001b[38;5;241m0\u001b[39m                                         \u001b[38;5;66;03m# binary counter to keep track of empty cells\u001b[39;00m\n\u001b[0;32m     23\u001b[0m     \u001b[38;5;28mself\u001b[39m\u001b[38;5;241m.\u001b[39mchild_index \u001b[38;5;241m=\u001b[39m np\u001b[38;5;241m.\u001b[39mzeros(\u001b[38;5;241m4\u001b[39m, dtype\u001b[38;5;241m=\u001b[39m\u001b[38;5;28mint\u001b[39m)            \u001b[38;5;66;03m# array of child index\u001b[39;00m\n",
      "\u001b[1;31mNameError\u001b[0m: name 'np' is not defined"
     ]
    }
   ],
   "source": [
    "# Create a root cell\n",
    "n_crit = 10\n",
    "root = Cell(n_crit, center=[0.5, 0.5], radius=0.5)\n",
    "# build the tree\n",
    "cells_list = build_tree(list_particles, root, n_crit)"
   ]
  },
  {
   "cell_type": "code",
   "execution_count": 10,
   "id": "c4a8080c",
   "metadata": {},
   "outputs": [
    {
     "ename": "NameError",
     "evalue": "name 'plt' is not defined",
     "output_type": "error",
     "traceback": [
      "\u001b[1;31m---------------------------------------------------------------------------\u001b[0m",
      "\u001b[1;31mNameError\u001b[0m                                 Traceback (most recent call last)",
      "Cell \u001b[1;32mIn[10], line 1\u001b[0m\n\u001b[1;32m----> 1\u001b[0m fig \u001b[38;5;241m=\u001b[39m \u001b[43mplt\u001b[49m\u001b[38;5;241m.\u001b[39mfigure()\n\u001b[0;32m      2\u001b[0m ax \u001b[38;5;241m=\u001b[39m plt\u001b[38;5;241m.\u001b[39mgca()\n\u001b[0;32m      3\u001b[0m \u001b[38;5;28;01mfor\u001b[39;00m i \u001b[38;5;129;01min\u001b[39;00m \u001b[38;5;28mrange\u001b[39m(num_particles):\n",
      "\u001b[1;31mNameError\u001b[0m: name 'plt' is not defined"
     ]
    }
   ],
   "source": [
    "fig = plt.figure()\n",
    "ax = plt.gca()\n",
    "for i in range(num_particles):\n",
    "    list_particles[i].plot()\n",
    "for c in cells_list:\n",
    "    c.plot1(n_crit, color='b')\n",
    "ax.tick_params(axis='both',labelsize=0, length = 0)\n",
    "plt.xlim(left=0, right=1)\n",
    "plt.ylim(bottom=0, top=1)\n",
    "ax.set_aspect('equal', adjustable='box')\n",
    "plt.show()"
   ]
  },
  {
   "cell_type": "code",
   "execution_count": null,
   "id": "cc3ea99f",
   "metadata": {},
   "outputs": [],
   "source": []
  },
  {
   "cell_type": "code",
   "execution_count": 11,
   "id": "f55ef052",
   "metadata": {},
   "outputs": [
    {
     "ename": "NameError",
     "evalue": "name 'np' is not defined",
     "output_type": "error",
     "traceback": [
      "\u001b[1;31m---------------------------------------------------------------------------\u001b[0m",
      "\u001b[1;31mNameError\u001b[0m                                 Traceback (most recent call last)",
      "Cell \u001b[1;32mIn[11], line 2\u001b[0m\n\u001b[0;32m      1\u001b[0m n_crit \u001b[38;5;241m=\u001b[39m \u001b[38;5;241m5\u001b[39m\n\u001b[1;32m----> 2\u001b[0m root \u001b[38;5;241m=\u001b[39m \u001b[43mCell\u001b[49m\u001b[43m(\u001b[49m\u001b[43mn_crit\u001b[49m\u001b[43m,\u001b[49m\u001b[43m \u001b[49m\u001b[43mcenter\u001b[49m\u001b[38;5;241;43m=\u001b[39;49m\u001b[43m[\u001b[49m\u001b[38;5;241;43m0.5\u001b[39;49m\u001b[43m,\u001b[49m\u001b[43m \u001b[49m\u001b[38;5;241;43m0.5\u001b[39;49m\u001b[43m]\u001b[49m\u001b[43m,\u001b[49m\u001b[43m \u001b[49m\u001b[43mradius\u001b[49m\u001b[38;5;241;43m=\u001b[39;49m\u001b[38;5;241;43m0.5\u001b[39;49m\u001b[43m)\u001b[49m\n\u001b[0;32m      3\u001b[0m \u001b[38;5;66;03m# build the tree\u001b[39;00m\n\u001b[0;32m      4\u001b[0m cells_list \u001b[38;5;241m=\u001b[39m build_tree(list_particles, root, n_crit)\n",
      "Cell \u001b[1;32mIn[4], line 21\u001b[0m, in \u001b[0;36mCell.__init__\u001b[1;34m(self, n_crit, center, radius, multipole_order)\u001b[0m\n\u001b[0;32m     19\u001b[0m \u001b[38;5;28;01mdef\u001b[39;00m \u001b[38;5;21m__init__\u001b[39m(\u001b[38;5;28mself\u001b[39m, n_crit, center\u001b[38;5;241m=\u001b[39m[\u001b[38;5;241m0.\u001b[39m, \u001b[38;5;241m0.\u001b[39m], radius\u001b[38;5;241m=\u001b[39m\u001b[38;5;241m0.\u001b[39m, multipole_order\u001b[38;5;241m=\u001b[39m\u001b[38;5;241m0\u001b[39m):\n\u001b[0;32m     20\u001b[0m     \u001b[38;5;28mself\u001b[39m\u001b[38;5;241m.\u001b[39mnparticles \u001b[38;5;241m=\u001b[39m \u001b[38;5;241m0\u001b[39m                                     \u001b[38;5;66;03m# number of particels\u001b[39;00m\n\u001b[1;32m---> 21\u001b[0m     \u001b[38;5;28mself\u001b[39m\u001b[38;5;241m.\u001b[39mparticle_index \u001b[38;5;241m=\u001b[39m \u001b[43mnp\u001b[49m\u001b[38;5;241m.\u001b[39mzeros(n_crit, dtype\u001b[38;5;241m=\u001b[39m\u001b[38;5;28mint\u001b[39m)    \u001b[38;5;66;03m# array of particle indices\u001b[39;00m\n\u001b[0;32m     22\u001b[0m     \u001b[38;5;28mself\u001b[39m\u001b[38;5;241m.\u001b[39mnchild \u001b[38;5;241m=\u001b[39m \u001b[38;5;241m0\u001b[39m                                         \u001b[38;5;66;03m# binary counter to keep track of empty cells\u001b[39;00m\n\u001b[0;32m     23\u001b[0m     \u001b[38;5;28mself\u001b[39m\u001b[38;5;241m.\u001b[39mchild_index \u001b[38;5;241m=\u001b[39m np\u001b[38;5;241m.\u001b[39mzeros(\u001b[38;5;241m4\u001b[39m, dtype\u001b[38;5;241m=\u001b[39m\u001b[38;5;28mint\u001b[39m)            \u001b[38;5;66;03m# array of child index\u001b[39;00m\n",
      "\u001b[1;31mNameError\u001b[0m: name 'np' is not defined"
     ]
    }
   ],
   "source": [
    "n_crit = 5\n",
    "root = Cell(n_crit, center=[0.5, 0.5], radius=0.5)\n",
    "# build the tree\n",
    "cells_list = build_tree(list_particles, root, n_crit)\n",
    "# plot the tree\n",
    "fig = plt.figure()\n",
    "ax = plt.gca()\n",
    "for i in range(num_particles):\n",
    "    list_particles[i].plot()\n",
    "for c in cells_list:\n",
    "    c.plot1(n_crit, color='b')\n",
    "ax.tick_params(axis='both',labelsize=0, length = 0)\n",
    "plt.xlim(left=0, right=1)\n",
    "plt.ylim(bottom=0, top=1)\n",
    "ax.set_aspect('equal', adjustable='box')\n",
    "plt.show()\n"
   ]
  },
  {
   "cell_type": "code",
   "execution_count": 12,
   "id": "b1334596",
   "metadata": {},
   "outputs": [],
   "source": [
    "# %load solution_task1_getMass.py\n",
    "def get_mass(particles_list, cell_index, cells_list, n_crit):\n",
    "    \"\"\"Returns total mass of a cell\n",
    "    Arguments:\n",
    "    ---------\n",
    "    particles_list : list\n",
    "        List of all particles\n",
    "    cell_index : int\n",
    "        Index of cell whose mass we need to calculate\n",
    "    cells_list : list\n",
    "        List of all the cells in the tree\n",
    "    n_crit : int\n",
    "        Critical number of particles\n",
    "    \n",
    "    Return\n",
    "    ------\n",
    "    mass : Total mass of the cell\n",
    "    \"\"\"\n",
    "    mass = 0\n",
    "    com = np.zeros(2, dtype=float)\n",
    "    ######### TODO BEGIN ###########\n",
    "\n",
    "    \n",
    "    \n",
    "    \n",
    "    ########## TODO END ############\n",
    "    return mass\n",
    "\n"
   ]
  },
  {
   "cell_type": "code",
   "execution_count": 13,
   "id": "58839093",
   "metadata": {},
   "outputs": [],
   "source": [
    "# %load solution_task3_directInteraction.py\n",
    "def direct_interaction(particle_index, particles_list, cell):\n",
    "    \"\"\"Direct particle to particle between particle and all the particles in leaf cell\n",
    "    \n",
    "    Arguments\n",
    "    ---------\n",
    "    particle_index : int\n",
    "        index of particle whose potential we need to calculate potentail\n",
    "    particles_list : list\n",
    "        List of particles\n",
    "    cell : object of type cell\n",
    "        the leaf cell with which we want to do direct particle to particle interaction between the particle\n",
    "        and all the particles in the leaf\n",
    "    Return\n",
    "    ------\n",
    "    phi : float\n",
    "        Potential generated by the cell on the particle\n",
    "    \"\"\"\n",
    "    \n",
    "    mass = particles_list[particle_index].m\n",
    "    phi = 0.\n",
    "    ######## TODO Begin ##########\n",
    "\n",
    "    \n",
    "    \n",
    "    ######### TODO End ###########\n",
    "    return phi\n",
    "\n"
   ]
  },
  {
   "cell_type": "code",
   "execution_count": null,
   "id": "652089f7",
   "metadata": {},
   "outputs": [],
   "source": []
  },
  {
   "cell_type": "code",
   "execution_count": null,
   "id": "850e85a4",
   "metadata": {},
   "outputs": [],
   "source": []
  }
 ],
 "metadata": {
  "kernelspec": {
   "display_name": "Python 3 (ipykernel)",
   "language": "python",
   "name": "python3"
  },
  "language_info": {
   "codemirror_mode": {
    "name": "ipython",
    "version": 3
   },
   "file_extension": ".py",
   "mimetype": "text/x-python",
   "name": "python",
   "nbconvert_exporter": "python",
   "pygments_lexer": "ipython3",
   "version": "3.11.1"
  }
 },
 "nbformat": 4,
 "nbformat_minor": 5
}
